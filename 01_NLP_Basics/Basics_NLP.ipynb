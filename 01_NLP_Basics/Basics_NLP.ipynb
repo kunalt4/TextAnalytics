{
 "cells": [
  {
   "cell_type": "markdown",
   "metadata": {},
   "source": [
    "### Tokenizing"
   ]
  },
  {
   "cell_type": "code",
   "execution_count": 1,
   "metadata": {},
   "outputs": [],
   "source": [
    "import nltk"
   ]
  },
  {
   "cell_type": "code",
   "execution_count": 2,
   "metadata": {},
   "outputs": [
    {
     "data": {
      "text/plain": [
       "'Yesterday (Sept. 25), a stark new climate report came out that showed climate change is progressing much faster than anticipated, but it\\'s not too late for humans to make changes.\\n\\nThe report, written and released by the United Nations-led Intergovernmental Panel on Climate Change (IPCC), and formally known as the IPCC Special Report on the Ocean and Cryosphere in a Changing Climate, details the most up-to-date understanding of climate change, its causes, how it will continue to impact us on Earth and what we can do about it. The report looks to 2100 to see both where we will be if we continue on as we currently are, or if major changes are made to mitigate contributing factors like carbon dioxide emissions.\\n\\nMain takeaway from the report? \"We\\'re seeing that climate change impacts are already happening, were seeing that they\\'re happening at a faster pace than before,\" Ben Orlove, a professor of public policy at Columbia University and a lead author on the report, said to Space.com at an Explorer\\'s Club event in New York on Sept. 25, where scientists, including authors of the report, discussed the report and its implications. sea levels are rising, oceans are turning more acidic.'"
      ]
     },
     "execution_count": 2,
     "metadata": {},
     "output_type": "execute_result"
    }
   ],
   "source": [
    "f = open('wordfile4.txt', encoding=\"utf-8\")\n",
    "text = f.read()\n",
    "text"
   ]
  },
  {
   "cell_type": "code",
   "execution_count": 3,
   "metadata": {},
   "outputs": [],
   "source": [
    "tokens = nltk.word_tokenize(text)"
   ]
  },
  {
   "cell_type": "code",
   "execution_count": 4,
   "metadata": {},
   "outputs": [
    {
     "name": "stdout",
     "output_type": "stream",
     "text": [
      "['Yesterday', '(', 'Sept.', '25', ')', ',', 'a', 'stark', 'new', 'climate', 'report', 'came', 'out', 'that', 'showed', 'climate', 'change', 'is', 'progressing', 'much', 'faster', 'than', 'anticipated', ',', 'but', 'it', \"'s\", 'not', 'too', 'late', 'for', 'humans', 'to', 'make', 'changes', '.', 'The', 'report', ',', 'written', 'and', 'released', 'by', 'the', 'United', 'Nations-led', 'Intergovernmental', 'Panel', 'on', 'Climate', 'Change', '(', 'IPCC', ')', ',', 'and', 'formally', 'known', 'as', 'the', 'IPCC', 'Special', 'Report', 'on', 'the', 'Ocean', 'and', 'Cryosphere', 'in', 'a', 'Changing', 'Climate', ',', 'details', 'the', 'most', 'up-to-date', 'understanding', 'of', 'climate', 'change', ',', 'its', 'causes', ',', 'how', 'it', 'will', 'continue', 'to', 'impact', 'us', 'on', 'Earth', 'and', 'what', 'we', 'can', 'do', 'about', 'it', '.', 'The', 'report', 'looks', 'to', '2100', 'to', 'see', 'both', 'where', 'we', 'will', 'be', 'if', 'we', 'continue', 'on', 'as', 'we', 'currently', 'are', ',', 'or', 'if', 'major', 'changes', 'are', 'made', 'to', 'mitigate', 'contributing', 'factors', 'like', 'carbon', 'dioxide', 'emissions', '.', 'Main', 'takeaway', 'from', 'the', 'report', '?', '``', 'We', \"'re\", 'seeing', 'that', 'climate', 'change', 'impacts', 'are', 'already', 'happening', ',', 'were', 'seeing', 'that', 'they', \"'re\", 'happening', 'at', 'a', 'faster', 'pace', 'than', 'before', ',', \"''\", 'Ben', 'Orlove', ',', 'a', 'professor', 'of', 'public', 'policy', 'at', 'Columbia', 'University', 'and', 'a', 'lead', 'author', 'on', 'the', 'report', ',', 'said', 'to', 'Space.com', 'at', 'an', 'Explorer', \"'s\", 'Club', 'event', 'in', 'New', 'York', 'on', 'Sept.', '25', ',', 'where', 'scientists', ',', 'including', 'authors', 'of', 'the', 'report', ',', 'discussed', 'the', 'report', 'and', 'its', 'implications', '.', 'sea', 'levels', 'are', 'rising', ',', 'oceans', 'are', 'turning', 'more', 'acidic', '.']\n"
     ]
    }
   ],
   "source": [
    "print(tokens)"
   ]
  },
  {
   "cell_type": "markdown",
   "metadata": {},
   "source": [
    "### Stemming"
   ]
  },
  {
   "cell_type": "code",
   "execution_count": 5,
   "metadata": {},
   "outputs": [],
   "source": [
    "from nltk.stem import PorterStemmer"
   ]
  },
  {
   "cell_type": "code",
   "execution_count": 6,
   "metadata": {},
   "outputs": [],
   "source": [
    "stemmer = PorterStemmer()"
   ]
  },
  {
   "cell_type": "code",
   "execution_count": 7,
   "metadata": {
    "scrolled": true
   },
   "outputs": [
    {
     "name": "stdout",
     "output_type": "stream",
     "text": [
      "['yesterday', '(', 'sept.', '25', ')', ',', 'a', 'stark', 'new', 'climat', 'report', 'came', 'out', 'that', 'show', 'climat', 'chang', 'is', 'progress', 'much', 'faster', 'than', 'anticip', ',', 'but', 'it', \"'s\", 'not', 'too', 'late', 'for', 'human', 'to', 'make', 'chang', '.', 'the', 'report', ',', 'written', 'and', 'releas', 'by', 'the', 'unit', 'nations-l', 'intergovernment', 'panel', 'on', 'climat', 'chang', '(', 'ipcc', ')', ',', 'and', 'formal', 'known', 'as', 'the', 'ipcc', 'special', 'report', 'on', 'the', 'ocean', 'and', 'cryospher', 'in', 'a', 'chang', 'climat', ',', 'detail', 'the', 'most', 'up-to-d', 'understand', 'of', 'climat', 'chang', ',', 'it', 'caus', ',', 'how', 'it', 'will', 'continu', 'to', 'impact', 'us', 'on', 'earth', 'and', 'what', 'we', 'can', 'do', 'about', 'it', '.', 'the', 'report', 'look', 'to', '2100', 'to', 'see', 'both', 'where', 'we', 'will', 'be', 'if', 'we', 'continu', 'on', 'as', 'we', 'current', 'are', ',', 'or', 'if', 'major', 'chang', 'are', 'made', 'to', 'mitig', 'contribut', 'factor', 'like', 'carbon', 'dioxid', 'emiss', '.', 'main', 'takeaway', 'from', 'the', 'report', '?', '``', 'We', \"'re\", 'see', 'that', 'climat', 'chang', 'impact', 'are', 'alreadi', 'happen', ',', 'were', 'see', 'that', 'they', \"'re\", 'happen', 'at', 'a', 'faster', 'pace', 'than', 'befor', ',', \"''\", 'ben', 'orlov', ',', 'a', 'professor', 'of', 'public', 'polici', 'at', 'columbia', 'univers', 'and', 'a', 'lead', 'author', 'on', 'the', 'report', ',', 'said', 'to', 'space.com', 'at', 'an', 'explor', \"'s\", 'club', 'event', 'in', 'new', 'york', 'on', 'sept.', '25', ',', 'where', 'scientist', ',', 'includ', 'author', 'of', 'the', 'report', ',', 'discuss', 'the', 'report', 'and', 'it', 'implic', '.', 'sea', 'level', 'are', 'rise', ',', 'ocean', 'are', 'turn', 'more', 'acid', '.']\n"
     ]
    }
   ],
   "source": [
    "print([stemmer.stem(wd) for wd in tokens])"
   ]
  },
  {
   "cell_type": "markdown",
   "metadata": {},
   "source": [
    "### POS Tagging"
   ]
  },
  {
   "cell_type": "code",
   "execution_count": 8,
   "metadata": {},
   "outputs": [],
   "source": [
    "pos_text = nltk.pos_tag(tokens)"
   ]
  },
  {
   "cell_type": "code",
   "execution_count": 9,
   "metadata": {},
   "outputs": [
    {
     "name": "stdout",
     "output_type": "stream",
     "text": [
      "[('Yesterday', 'NN'), ('(', '('), ('Sept.', 'NNP'), ('25', 'CD'), (')', ')'), (',', ','), ('a', 'DT'), ('stark', 'JJ'), ('new', 'JJ'), ('climate', 'NN'), ('report', 'NN'), ('came', 'VBD'), ('out', 'RP'), ('that', 'IN'), ('showed', 'VBD'), ('climate', 'JJ'), ('change', 'NN'), ('is', 'VBZ'), ('progressing', 'VBG'), ('much', 'RB'), ('faster', 'RBR'), ('than', 'IN'), ('anticipated', 'VBN'), (',', ','), ('but', 'CC'), ('it', 'PRP'), (\"'s\", 'VBZ'), ('not', 'RB'), ('too', 'RB'), ('late', 'JJ'), ('for', 'IN'), ('humans', 'NNS'), ('to', 'TO'), ('make', 'VB'), ('changes', 'NNS'), ('.', '.'), ('The', 'DT'), ('report', 'NN'), (',', ','), ('written', 'VBN'), ('and', 'CC'), ('released', 'VBN'), ('by', 'IN'), ('the', 'DT'), ('United', 'NNP'), ('Nations-led', 'JJ'), ('Intergovernmental', 'NNP'), ('Panel', 'NNP'), ('on', 'IN'), ('Climate', 'NNP'), ('Change', 'NNP'), ('(', '('), ('IPCC', 'NNP'), (')', ')'), (',', ','), ('and', 'CC'), ('formally', 'RB'), ('known', 'VBN'), ('as', 'IN'), ('the', 'DT'), ('IPCC', 'NNP'), ('Special', 'NNP'), ('Report', 'NNP'), ('on', 'IN'), ('the', 'DT'), ('Ocean', 'NNP'), ('and', 'CC'), ('Cryosphere', 'NNP'), ('in', 'IN'), ('a', 'DT'), ('Changing', 'NNP'), ('Climate', 'NNP'), (',', ','), ('details', 'NNS'), ('the', 'DT'), ('most', 'RBS'), ('up-to-date', 'JJ'), ('understanding', 'NN'), ('of', 'IN'), ('climate', 'NN'), ('change', 'NN'), (',', ','), ('its', 'PRP$'), ('causes', 'NNS'), (',', ','), ('how', 'WRB'), ('it', 'PRP'), ('will', 'MD'), ('continue', 'VB'), ('to', 'TO'), ('impact', 'VB'), ('us', 'PRP'), ('on', 'IN'), ('Earth', 'NN'), ('and', 'CC'), ('what', 'WP'), ('we', 'PRP'), ('can', 'MD'), ('do', 'VB'), ('about', 'IN'), ('it', 'PRP'), ('.', '.'), ('The', 'DT'), ('report', 'NN'), ('looks', 'VBZ'), ('to', 'TO'), ('2100', 'CD'), ('to', 'TO'), ('see', 'VB'), ('both', 'DT'), ('where', 'WRB'), ('we', 'PRP'), ('will', 'MD'), ('be', 'VB'), ('if', 'IN'), ('we', 'PRP'), ('continue', 'VBP'), ('on', 'IN'), ('as', 'IN'), ('we', 'PRP'), ('currently', 'RB'), ('are', 'VBP'), (',', ','), ('or', 'CC'), ('if', 'IN'), ('major', 'JJ'), ('changes', 'NNS'), ('are', 'VBP'), ('made', 'VBN'), ('to', 'TO'), ('mitigate', 'VB'), ('contributing', 'JJ'), ('factors', 'NNS'), ('like', 'IN'), ('carbon', 'NN'), ('dioxide', 'NN'), ('emissions', 'NNS'), ('.', '.'), ('Main', 'NNP'), ('takeaway', 'NN'), ('from', 'IN'), ('the', 'DT'), ('report', 'NN'), ('?', '.'), ('``', '``'), ('We', 'PRP'), (\"'re\", 'VBP'), ('seeing', 'VBG'), ('that', 'IN'), ('climate', 'NN'), ('change', 'NN'), ('impacts', 'NNS'), ('are', 'VBP'), ('already', 'RB'), ('happening', 'VBG'), (',', ','), ('were', 'VBD'), ('seeing', 'VBG'), ('that', 'IN'), ('they', 'PRP'), (\"'re\", 'VBP'), ('happening', 'VBG'), ('at', 'IN'), ('a', 'DT'), ('faster', 'JJR'), ('pace', 'NN'), ('than', 'IN'), ('before', 'RB'), (',', ','), (\"''\", \"''\"), ('Ben', 'NNP'), ('Orlove', 'NNP'), (',', ','), ('a', 'DT'), ('professor', 'NN'), ('of', 'IN'), ('public', 'JJ'), ('policy', 'NN'), ('at', 'IN'), ('Columbia', 'NNP'), ('University', 'NNP'), ('and', 'CC'), ('a', 'DT'), ('lead', 'JJ'), ('author', 'NN'), ('on', 'IN'), ('the', 'DT'), ('report', 'NN'), (',', ','), ('said', 'VBD'), ('to', 'TO'), ('Space.com', 'NNP'), ('at', 'IN'), ('an', 'DT'), ('Explorer', 'NNP'), (\"'s\", 'POS'), ('Club', 'NNP'), ('event', 'NN'), ('in', 'IN'), ('New', 'NNP'), ('York', 'NNP'), ('on', 'IN'), ('Sept.', 'NNP'), ('25', 'CD'), (',', ','), ('where', 'WRB'), ('scientists', 'NNS'), (',', ','), ('including', 'VBG'), ('authors', 'NNS'), ('of', 'IN'), ('the', 'DT'), ('report', 'NN'), (',', ','), ('discussed', 'VBD'), ('the', 'DT'), ('report', 'NN'), ('and', 'CC'), ('its', 'PRP$'), ('implications', 'NNS'), ('.', '.'), ('sea', 'NN'), ('levels', 'NNS'), ('are', 'VBP'), ('rising', 'VBG'), (',', ','), ('oceans', 'NNS'), ('are', 'VBP'), ('turning', 'VBG'), ('more', 'JJR'), ('acidic', 'JJ'), ('.', '.')]\n"
     ]
    }
   ],
   "source": [
    "print(pos_text)"
   ]
  },
  {
   "cell_type": "markdown",
   "metadata": {},
   "source": [
    "### Lemmatization"
   ]
  },
  {
   "cell_type": "code",
   "execution_count": 17,
   "metadata": {},
   "outputs": [],
   "source": [
    "def convert_tags_to_wordnet(tag):\n",
    "    if tag.startswith('V'):\n",
    "        return 'v'\n",
    "    elif tag.startswith('J'):\n",
    "        return 'a'\n",
    "    elif tag.startswith('R'):\n",
    "        return 'r'\n",
    "    elif tag.startswith('N'):\n",
    "        return 'n'\n",
    "    else:\n",
    "        return None"
   ]
  },
  {
   "cell_type": "code",
   "execution_count": 18,
   "metadata": {},
   "outputs": [],
   "source": [
    "lemma = nltk.WordNetLemmatizer()\n",
    "w = []\n",
    "l = []"
   ]
  },
  {
   "cell_type": "code",
   "execution_count": 19,
   "metadata": {
    "scrolled": true
   },
   "outputs": [
    {
     "name": "stdout",
     "output_type": "stream",
     "text": [
      "Yesterday :Yesterday - n\n",
      "Sept. :Sept. - n\n",
      "stark :stark - a\n",
      "new :new - a\n",
      "climate :climate - n\n",
      "report :report - n\n",
      "came :come - v\n",
      "out :out - r\n",
      "showed :show - v\n",
      "climate :climate - a\n",
      "change :change - n\n",
      "is :be - v\n",
      "progressing :progress - v\n",
      "much :much - r\n",
      "faster :faster - r\n",
      "anticipated :anticipate - v\n",
      "'s :'s - v\n",
      "not :not - r\n",
      "too :too - r\n",
      "late :late - a\n",
      "humans :human - n\n",
      "make :make - v\n",
      "changes :change - n\n",
      "report :report - n\n",
      "written :write - v\n",
      "released :release - v\n",
      "United :United - n\n",
      "Nations-led :Nations-led - a\n",
      "Intergovernmental :Intergovernmental - n\n",
      "Panel :Panel - n\n",
      "Climate :Climate - n\n",
      "Change :Change - n\n",
      "IPCC :IPCC - n\n",
      "formally :formally - r\n",
      "known :know - v\n",
      "IPCC :IPCC - n\n",
      "Special :Special - n\n",
      "Report :Report - n\n",
      "Ocean :Ocean - n\n",
      "Cryosphere :Cryosphere - n\n",
      "Changing :Changing - n\n",
      "Climate :Climate - n\n",
      "details :detail - n\n",
      "most :most - r\n",
      "up-to-date :up-to-date - a\n",
      "understanding :understanding - n\n",
      "climate :climate - n\n",
      "change :change - n\n",
      "causes :cause - n\n",
      "continue :continue - v\n",
      "impact :impact - v\n",
      "Earth :Earth - n\n",
      "do :do - v\n",
      "report :report - n\n",
      "looks :look - v\n",
      "see :see - v\n",
      "be :be - v\n",
      "continue :continue - v\n",
      "currently :currently - r\n",
      "are :be - v\n",
      "major :major - a\n",
      "changes :change - n\n",
      "are :be - v\n",
      "made :make - v\n",
      "mitigate :mitigate - v\n",
      "contributing :contributing - a\n",
      "factors :factor - n\n",
      "carbon :carbon - n\n",
      "dioxide :dioxide - n\n",
      "emissions :emission - n\n",
      "Main :Main - n\n",
      "takeaway :takeaway - n\n",
      "report :report - n\n",
      "'re :'re - v\n",
      "seeing :see - v\n",
      "climate :climate - n\n",
      "change :change - n\n",
      "impacts :impact - n\n",
      "are :be - v\n",
      "already :already - r\n",
      "happening :happen - v\n",
      "were :be - v\n",
      "seeing :see - v\n",
      "'re :'re - v\n",
      "happening :happen - v\n",
      "faster :fast - a\n",
      "pace :pace - n\n",
      "before :before - r\n",
      "Ben :Ben - n\n",
      "Orlove :Orlove - n\n",
      "professor :professor - n\n",
      "public :public - a\n",
      "policy :policy - n\n",
      "Columbia :Columbia - n\n",
      "University :University - n\n",
      "lead :lead - a\n",
      "author :author - n\n",
      "report :report - n\n",
      "said :say - v\n",
      "Space.com :Space.com - n\n",
      "Explorer :Explorer - n\n",
      "Club :Club - n\n",
      "event :event - n\n",
      "New :New - n\n",
      "York :York - n\n",
      "Sept. :Sept. - n\n",
      "scientists :scientist - n\n",
      "including :include - v\n",
      "authors :author - n\n",
      "report :report - n\n",
      "discussed :discuss - v\n",
      "report :report - n\n",
      "implications :implication - n\n",
      "sea :sea - n\n",
      "levels :level - n\n",
      "are :be - v\n",
      "rising :rise - v\n",
      "oceans :ocean - n\n",
      "are :be - v\n",
      "turning :turn - v\n",
      "more :more - a\n",
      "acidic :acidic - a\n"
     ]
    }
   ],
   "source": [
    "for word in pos_text:\n",
    "    converted_tag = convert_tags_to_wordnet(word[1])\n",
    "    if(converted_tag is not None):\n",
    "        out = lemma.lemmatize(word[0],converted_tag)\n",
    "        print(word[0] + ' :' + out + ' - ' + converted_tag)"
   ]
  }
 ],
 "metadata": {
  "kernelspec": {
   "display_name": "Python 3",
   "language": "python",
   "name": "python3"
  },
  "language_info": {
   "codemirror_mode": {
    "name": "ipython",
    "version": 3
   },
   "file_extension": ".py",
   "mimetype": "text/x-python",
   "name": "python",
   "nbconvert_exporter": "python",
   "pygments_lexer": "ipython3",
   "version": "3.7.3"
  }
 },
 "nbformat": 4,
 "nbformat_minor": 2
}
