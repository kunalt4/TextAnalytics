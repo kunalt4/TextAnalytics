{
 "cells": [
  {
   "cell_type": "code",
   "execution_count": 129,
   "metadata": {},
   "outputs": [
    {
     "name": "stdout",
     "output_type": "stream",
     "text": [
      "With last letter:\n",
      "Harry is: female\n",
      "Ronald is: male\n",
      "Hermione is: female\n",
      "\n",
      "Most Informative Features\n",
      "             last_letter = 'k'              male : female =     43.2 : 1.0\n",
      "             last_letter = 'a'            female : male   =     36.8 : 1.0\n",
      "             last_letter = 'f'              male : female =     15.3 : 1.0\n",
      "             last_letter = 'm'              male : female =     10.9 : 1.0\n",
      "             last_letter = 'v'              male : female =     10.5 : 1.0\n",
      "With first letter and last two letters:\n",
      "Harry is: male\n",
      "Ronald is: male\n",
      "Hermione is: female\n",
      "\n",
      "Most Informative Features\n",
      "          last_2_letters = 'na'           female : male   =     98.6 : 1.0\n",
      "          last_2_letters = 'la'           female : male   =     75.3 : 1.0\n",
      "          last_2_letters = 'ia'           female : male   =     39.8 : 1.0\n",
      "          last_2_letters = 'ra'           female : male   =     36.3 : 1.0\n",
      "          last_2_letters = 'sa'           female : male   =     35.7 : 1.0\n",
      "Accuracy with last_letter feature:\n",
      "0.748\n",
      "Accuracy with first_letter and last_2_letters features:\n",
      "0.818\n"
     ]
    }
   ],
   "source": [
    "import nltk\n",
    "from nltk.corpus import names\n",
    "import random\n",
    "\n",
    "def gender_two_features(word):\n",
    "    return {'first_letter':word[0],'last_2_letters': word[-2:]}\n",
    "\n",
    "def gender_features(word):\n",
    "    return {'last_letter':word[-1]}\n",
    "\n",
    "# gender_features('Shrek') = {'last_letter': 'k'}\n",
    "\n",
    "male_names = [(name, 'male') for name in names.words('male.txt')]\n",
    "female_names = [(name, 'female') for name in names.words('female.txt')]\n",
    "labeled_names = male_names + female_names\n",
    "random.shuffle(labeled_names)\n",
    "featuresets = [(gender_features(n), gender) for (n, gender) in labeled_names]\n",
    "#entries are    ({'last_letter': 'g'}, 'male')\n",
    "train_set, test_set = featuresets[500:], featuresets[:500]\n",
    "featuresets = [(gender_two_features(n), gender) for (n, gender) in labeled_names]\n",
    "train, test = featuresets[500:], featuresets[:500]\n",
    "\n",
    "classifier = nltk.NaiveBayesClassifier.train(train_set)\n",
    "classifier2 = nltk.NaiveBayesClassifier.train(train)\n",
    "\n",
    "ans1 = classifier.classify(gender_features('Harry'))\n",
    "ans2 = classifier.classify(gender_features('Ronald'))\n",
    "ans3 = classifier.classify(gender_features('Hermione'))\n",
    "\n",
    "ans4 = classifier2.classify(gender_two_features('Harry'))\n",
    "ans5 = classifier2.classify(gender_two_features('Ronald'))\n",
    "ans6 = classifier.classify(gender_features('Hermione'))\n",
    "\n",
    "print(\"With last letter:\")\n",
    "print(\"Harry is:\", ans1)\n",
    "print(\"Ronald is:\", ans2)\n",
    "print(\"Hermione is:\", ans3)\n",
    "print()\n",
    "classifier.show_most_informative_features(5)\n",
    "\n",
    "print(\"With first letter and last two letters:\")\n",
    "print(\"Harry is:\", ans4)\n",
    "print(\"Ronald is:\", ans5)\n",
    "print(\"Hermione is:\", ans6)\n",
    "print()\n",
    "classifier2.show_most_informative_features(5)\n",
    "\n",
    "print(\"Accuracy with last_letter feature:\")\n",
    "print(nltk.classify.accuracy(classifier, test_set))\n",
    "print(\"Accuracy with first_letter and last_2_letters features:\")\n",
    "print(nltk.classify.accuracy(classifier2, test))"
   ]
  },
  {
   "cell_type": "code",
   "execution_count": null,
   "metadata": {},
   "outputs": [],
   "source": []
  }
 ],
 "metadata": {
  "kernelspec": {
   "display_name": "Python 3",
   "language": "python",
   "name": "python3"
  },
  "language_info": {
   "codemirror_mode": {
    "name": "ipython",
    "version": 3
   },
   "file_extension": ".py",
   "mimetype": "text/x-python",
   "name": "python",
   "nbconvert_exporter": "python",
   "pygments_lexer": "ipython3",
   "version": "3.7.3"
  }
 },
 "nbformat": 4,
 "nbformat_minor": 2
}
