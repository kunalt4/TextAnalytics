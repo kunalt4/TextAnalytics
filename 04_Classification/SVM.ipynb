{
 "cells": [
  {
   "cell_type": "code",
   "execution_count": 73,
   "metadata": {},
   "outputs": [
    {
     "name": "stdout",
     "output_type": "stream",
     "text": [
      "1797\n",
      "For Gamma: 0.001 and C: 0.01\n",
      "Prediction: [1]\n",
      "Prediction: [1]\n",
      "Prediction: [3]\n",
      "Prediction: [0]\n",
      "Prediction: [3]\n",
      "1797\n",
      "For Gamma: 1 and C: 100\n",
      "Prediction: [1]\n",
      "Prediction: [4]\n",
      "Prediction: [7]\n",
      "Prediction: [0]\n",
      "Prediction: [8]\n",
      "1797\n",
      "For Gamma: 100 and C: 10000\n",
      "Prediction: [1]\n",
      "Prediction: [4]\n",
      "Prediction: [7]\n",
      "Prediction: [0]\n",
      "Prediction: [8]\n"
     ]
    }
   ],
   "source": [
    "__author__ = 'user'\n",
    "# http://pythonprogramming.net/support-vector-machine-svm-example-tutorial-scikit-learn-python/\n",
    "\n",
    "import matplotlib.pyplot as plt\n",
    "\n",
    "from sklearn import datasets\n",
    "from sklearn import svm\n",
    "\n",
    "digits = datasets.load_digits()\n",
    "gammaVals = [0.001,1,100]\n",
    "CVals = [0.01,100,10000]\n",
    "data = [1,4,7,-4,-7]\n",
    "for i in range(3):\n",
    "    \n",
    "    classifier = svm.SVC(gamma=gammaVals[i], C=CVals[i])\n",
    "\n",
    "    print(len(digits.data))\n",
    "\n",
    "    x, y = digits.data[:-1], digits.target[:-1]\n",
    "    print(\"For Gamma: \"+ str(gammaVals[i]) + \" and C: \"+ str(CVals[i]))\n",
    "    classifier.fit(x, y)\n",
    "    for d in data:\n",
    "        print('Prediction:', classifier.predict(digits.data[d].reshape(1,-1)))\n"
   ]
  },
  {
   "cell_type": "code",
   "execution_count": 46,
   "metadata": {},
   "outputs": [
    {
     "data": {
      "image/png": "[encoded data removed]",
      "text/plain": [
       "<Figure size 432x288 with 1 Axes>"
      ]
     },
     "metadata": {
      "needs_background": "light"
     },
     "output_type": "display_data"
    },
    {
     "data": {
      "image/png": "[encoded data removed]",
      "text/plain": [
       "<Figure size 432x288 with 1 Axes>"
      ]
     },
     "metadata": {
      "needs_background": "light"
     },
     "output_type": "display_data"
    },
    {
     "data": {
      "image/png": "[encoded data removed]",
      "text/plain": [
       "<Figure size 432x288 with 1 Axes>"
      ]
     },
     "metadata": {
      "needs_background": "light"
     },
     "output_type": "display_data"
    },
    {
     "data": {
      "image/png": "[encoded data removed]",
      "text/plain": [
       "<Figure size 432x288 with 1 Axes>"
      ]
     },
     "metadata": {
      "needs_background": "light"
     },
     "output_type": "display_data"
    },
    {
     "data": {
      "image/png": "[encoded data removed]",
      "text/plain": [
       "<Figure size 432x288 with 1 Axes>"
      ]
     },
     "metadata": {
      "needs_background": "light"
     },
     "output_type": "display_data"
    }
   ],
   "source": [
    "for d in data:\n",
    "    plt.imshow(digits.images[d], cmap=plt.cm.gray_r, interpolation='nearest')\n",
    "    plt.show()"
   ]
  },
  {
   "cell_type": "code",
   "execution_count": 67,
   "metadata": {},
   "outputs": [
    {
     "data": {
      "text/plain": [
       "[]"
      ]
     },
     "execution_count": 67,
     "metadata": {},
     "output_type": "execute_result"
    },
    {
     "data": {
      "image/png": "[encoded data removed]",
      "text/plain": [
       "<Figure size 432x288 with 6 Axes>"
      ]
     },
     "metadata": {
      "needs_background": "light"
     },
     "output_type": "display_data"
    }
   ],
   "source": [
    "fig, ((ax1, ax2), (ax3, ax4), (ax5,ax6)) = plt.subplots(3, 2)\n",
    "ax1.imshow(digits.images[1], cmap=plt.cm.gray_r, interpolation='nearest')\n",
    "ax2.imshow(digits.images[4], cmap=plt.cm.gray_r, interpolation='nearest')\n",
    "ax3.imshow(digits.images[7], cmap=plt.cm.gray_r, interpolation='nearest')\n",
    "ax4.imshow(digits.images[-4], cmap=plt.cm.gray_r, interpolation='nearest')\n",
    "ax5.imshow(digits.images[-7], cmap=plt.cm.gray_r, interpolation='nearest')\n",
    "ax5.plot()"
   ]
  },
  {
   "cell_type": "code",
   "execution_count": 71,
   "metadata": {},
   "outputs": [
    {
     "data": {
      "text/plain": [
       "array([[ 0.,  0.,  5., ...,  0.,  0.,  0.],\n",
       "       [ 0.,  0.,  0., ..., 10.,  0.,  0.],\n",
       "       [ 0.,  0.,  0., ..., 16.,  9.,  0.],\n",
       "       ...,\n",
       "       [ 0.,  0.,  1., ...,  6.,  0.,  0.],\n",
       "       [ 0.,  0.,  2., ..., 12.,  0.,  0.],\n",
       "       [ 0.,  0., 10., ..., 12.,  1.,  0.]])"
      ]
     },
     "execution_count": 71,
     "metadata": {},
     "output_type": "execute_result"
    }
   ],
   "source": []
  },
  {
   "cell_type": "code",
   "execution_count": null,
   "metadata": {},
   "outputs": [],
   "source": []
  }
 ],
 "metadata": {
  "kernelspec": {
   "display_name": "Python 3",
   "language": "python",
   "name": "python3"
  },
  "language_info": {
   "codemirror_mode": {
    "name": "ipython",
    "version": 3
   },
   "file_extension": ".py",
   "mimetype": "text/x-python",
   "name": "python",
   "nbconvert_exporter": "python",
   "pygments_lexer": "ipython3",
   "version": "3.7.3"
  }
 },
 "nbformat": 4,
 "nbformat_minor": 2
}
