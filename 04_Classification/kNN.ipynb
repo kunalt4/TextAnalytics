{
 "cells": [
  {
   "cell_type": "code",
   "execution_count": 1,
   "metadata": {},
   "outputs": [],
   "source": [
    "import csv\n",
    "import random\n",
    "import math\n",
    "import operator\n",
    "\n",
    "def loadDataset(filename, split, trainingSet=[] , testSet=[]):\n",
    "    with open(filename, 'r') as csvfile:\n",
    "        lines = csv.reader(csvfile)\n",
    "        dataset = list(lines)\n",
    "        for x in range(len(dataset)-1):\n",
    "            for y in range(4):\n",
    "                dataset[x][y] = float(dataset[x][y])\n",
    "            if random.random() < split:\n",
    "                trainingSet.append(dataset[x])\n",
    "            else:\n",
    "                testSet.append(dataset[x])"
   ]
  },
  {
   "cell_type": "code",
   "execution_count": null,
   "metadata": {},
   "outputs": [],
   "source": []
  },
  {
   "cell_type": "code",
   "execution_count": 2,
   "metadata": {},
   "outputs": [],
   "source": [
    "def euclideanDistance(instance1, instance2, length):\n",
    "    distance = 0\n",
    "    for x in range(length):\n",
    "        distance += pow((instance1[x] - instance2[x]), 2)\n",
    "    return math.sqrt(distance)"
   ]
  },
  {
   "cell_type": "code",
   "execution_count": 3,
   "metadata": {},
   "outputs": [],
   "source": [
    "def getNeighbors(trainingSet, testInstance, k):\n",
    "    distances = []\n",
    "    length = len(testInstance)-1\n",
    "    for x in range(len(trainingSet)):\n",
    "        dist = euclideanDistance(testInstance, trainingSet[x], length)\n",
    "        distances.append((trainingSet[x], dist))\n",
    "    distances.sort(key=operator.itemgetter(1))\n",
    "    neighbors = []\n",
    "    for x in range(k):\n",
    "        neighbors.append(distances[x][0])\n",
    "    return neighbors"
   ]
  },
  {
   "cell_type": "code",
   "execution_count": 4,
   "metadata": {},
   "outputs": [],
   "source": [
    "def getResponse(neighbors):\n",
    "    classVotes = {}\n",
    "    for x in range(len(neighbors)):\n",
    "        response = neighbors[x][-1]\n",
    "        if response in classVotes:\n",
    "            classVotes[response] += 1\n",
    "        else:\n",
    "            classVotes[response] = 1\n",
    "    sortedVotes = sorted(classVotes.items(), key=operator.itemgetter(1), reverse=True)\n",
    "    return sortedVotes[0][0]\n",
    "\n",
    "def getAccuracy(testSet, predictions):\n",
    "    correct = 0\n",
    "    for x in range(len(testSet)):\n",
    "        if testSet[x][-1] == predictions[x]:\n",
    "            correct += 1\n",
    "    return (correct/float(len(testSet))) * 100.0"
   ]
  },
  {
   "cell_type": "code",
   "execution_count": 18,
   "metadata": {},
   "outputs": [
    {
     "name": "stdout",
     "output_type": "stream",
     "text": [
      "Train set: 43\n",
      "Test set: 106\n",
      "Split - 0.3 - K - 3\n",
      "Accuracy: 96.22641509433963%\n",
      "Split - 0.3 - K - 5\n",
      "Accuracy: 96.22641509433963%\n",
      "Split - 0.3 - K - 9\n",
      "Accuracy: 97.16981132075472%\n",
      "Split - 0.3 - K - 13\n",
      "Accuracy: 94.33962264150944%\n",
      "Split - 0.3 - K - 17\n",
      "Accuracy: 93.39622641509435%\n",
      "Train set: 79\n",
      "Test set: 70\n",
      "Split - 0.5 - K - 3\n",
      "Accuracy: 97.14285714285714%\n",
      "Split - 0.5 - K - 5\n",
      "Accuracy: 97.14285714285714%\n",
      "Split - 0.5 - K - 9\n",
      "Accuracy: 98.57142857142858%\n",
      "Split - 0.5 - K - 13\n",
      "Accuracy: 97.14285714285714%\n",
      "Split - 0.5 - K - 17\n",
      "Accuracy: 95.71428571428572%\n",
      "Train set: 114\n",
      "Test set: 35\n",
      "Split - 0.7 - K - 3\n",
      "Accuracy: 97.14285714285714%\n",
      "Split - 0.7 - K - 5\n",
      "Accuracy: 97.14285714285714%\n",
      "Split - 0.7 - K - 9\n",
      "Accuracy: 97.14285714285714%\n",
      "Split - 0.7 - K - 13\n",
      "Accuracy: 97.14285714285714%\n",
      "Split - 0.7 - K - 17\n",
      "Accuracy: 97.14285714285714%\n",
      "Train set: 135\n",
      "Test set: 14\n",
      "Split - 0.9 - K - 3\n",
      "Accuracy: 92.85714285714286%\n",
      "Split - 0.9 - K - 5\n",
      "Accuracy: 92.85714285714286%\n",
      "Split - 0.9 - K - 9\n",
      "Accuracy: 100.0%\n",
      "Split - 0.9 - K - 13\n",
      "Accuracy: 100.0%\n",
      "Split - 0.9 - K - 17\n",
      "Accuracy: 92.85714285714286%\n",
      "{0.3: {3: 96.22641509433963, 5: 96.22641509433963, 9: 97.16981132075472, 13: 94.33962264150944, 17: 93.39622641509435}, 0.5: {3: 97.14285714285714, 5: 97.14285714285714, 9: 98.57142857142858, 13: 97.14285714285714, 17: 95.71428571428572}, 0.7: {3: 97.14285714285714, 5: 97.14285714285714, 9: 97.14285714285714, 13: 97.14285714285714, 17: 97.14285714285714}, 0.9: {3: 92.85714285714286, 5: 92.85714285714286, 9: 100.0, 13: 100.0, 17: 92.85714285714286}}\n"
     ]
    }
   ],
   "source": [
    "def main():\n",
    "    global acc_array, kval, splitval\n",
    "    kval = [3, 5, 9, 13, 17]\n",
    "    splitval = [0.3, 0.5, 0.7, 0.9]\n",
    "    acc_array = {}\n",
    "    for split in splitval:\n",
    "        arr = {}\n",
    "        trainingSet=[]\n",
    "        testSet=[]\n",
    "        loadDataset('iris.csv', split, trainingSet, testSet)\n",
    "        print('Train set: ' + repr(len(trainingSet)))\n",
    "        print('Test set: ' + repr(len(testSet)))\n",
    "        for k in kval:\n",
    "            # generate predictions\n",
    "            predictions=[]\n",
    "            for x in range(len(testSet)):\n",
    "                neighbors = getNeighbors(trainingSet, testSet[x], k)\n",
    "                result = getResponse(neighbors)\n",
    "                predictions.append(result)\n",
    "#                 print('> predicted=' + repr(result) + ', actual=' + repr(testSet[x][-1]))\n",
    "            accuracy = getAccuracy(testSet, predictions)\n",
    "            print('Split - ' + str(split) + ' - K - ' + str(k))\n",
    "            print('Accuracy: ' + repr(accuracy) + '%')\n",
    "            arr[k] = accuracy\n",
    "        acc_array[split] = arr\n",
    "    \n",
    "main()\n",
    "print(acc_array)"
   ]
  },
  {
   "cell_type": "code",
   "execution_count": 47,
   "metadata": {},
   "outputs": [],
   "source": [
    "import pandas as pd\n",
    "accuracy_df = pd.DataFrame(acc_array)\n",
    "accuracy_df.index.name = 'KValues'\n",
    "accuracy_df = pd.DataFrame(accuracy_df).rename_axis('Split Values', axis=1)"
   ]
  },
  {
   "cell_type": "code",
   "execution_count": 48,
   "metadata": {},
   "outputs": [
    {
     "data": {
      "text/html": [
       "<div>\n",
       "<style scoped>\n",
       "    .dataframe tbody tr th:only-of-type {\n",
       "        vertical-align: middle;\n",
       "    }\n",
       "\n",
       "    .dataframe tbody tr th {\n",
       "        vertical-align: top;\n",
       "    }\n",
       "\n",
       "    .dataframe thead th {\n",
       "        text-align: right;\n",
       "    }\n",
       "</style>\n",
       "<table border=\"1\" class=\"dataframe\">\n",
       "  <thead>\n",
       "    <tr style=\"text-align: right;\">\n",
       "      <th>Split Values</th>\n",
       "      <th>0.3</th>\n",
       "      <th>0.5</th>\n",
       "      <th>0.7</th>\n",
       "      <th>0.9</th>\n",
       "    </tr>\n",
       "    <tr>\n",
       "      <th>KValues</th>\n",
       "      <th></th>\n",
       "      <th></th>\n",
       "      <th></th>\n",
       "      <th></th>\n",
       "    </tr>\n",
       "  </thead>\n",
       "  <tbody>\n",
       "    <tr>\n",
       "      <td>3</td>\n",
       "      <td>96.226415</td>\n",
       "      <td>97.142857</td>\n",
       "      <td>97.142857</td>\n",
       "      <td>92.857143</td>\n",
       "    </tr>\n",
       "    <tr>\n",
       "      <td>5</td>\n",
       "      <td>96.226415</td>\n",
       "      <td>97.142857</td>\n",
       "      <td>97.142857</td>\n",
       "      <td>92.857143</td>\n",
       "    </tr>\n",
       "    <tr>\n",
       "      <td>9</td>\n",
       "      <td>97.169811</td>\n",
       "      <td>98.571429</td>\n",
       "      <td>97.142857</td>\n",
       "      <td>100.000000</td>\n",
       "    </tr>\n",
       "    <tr>\n",
       "      <td>13</td>\n",
       "      <td>94.339623</td>\n",
       "      <td>97.142857</td>\n",
       "      <td>97.142857</td>\n",
       "      <td>100.000000</td>\n",
       "    </tr>\n",
       "    <tr>\n",
       "      <td>17</td>\n",
       "      <td>93.396226</td>\n",
       "      <td>95.714286</td>\n",
       "      <td>97.142857</td>\n",
       "      <td>92.857143</td>\n",
       "    </tr>\n",
       "  </tbody>\n",
       "</table>\n",
       "</div>"
      ],
      "text/plain": [
       "Split Values        0.3        0.5        0.7         0.9\n",
       "KValues                                                  \n",
       "3             96.226415  97.142857  97.142857   92.857143\n",
       "5             96.226415  97.142857  97.142857   92.857143\n",
       "9             97.169811  98.571429  97.142857  100.000000\n",
       "13            94.339623  97.142857  97.142857  100.000000\n",
       "17            93.396226  95.714286  97.142857   92.857143"
      ]
     },
     "execution_count": 48,
     "metadata": {},
     "output_type": "execute_result"
    }
   ],
   "source": [
    "accuracy_df"
   ]
  },
  {
   "cell_type": "code",
   "execution_count": null,
   "metadata": {},
   "outputs": [],
   "source": []
  },
  {
   "cell_type": "code",
   "execution_count": 21,
   "metadata": {},
   "outputs": [
    {
     "data": {
      "image/png": "[encoded data removed]",
      "text/plain": [
       "<Figure size 432x288 with 1 Axes>"
      ]
     },
     "metadata": {
      "needs_background": "light"
     },
     "output_type": "display_data"
    }
   ],
   "source": [
    "import matplotlib.pyplot as plt\n",
    "ax = accuracy_df.plot()\n",
    "ax.set_xticks(accuracy_df.index)\n",
    "plt.xlabel(\"K Values\")\n",
    "plt.ylabel(\"Accuracy\")\n",
    "plt.title(\"Comparison of Split and K Values with Accuracy\")\n",
    "plt.legend(title=\"Split\")\n",
    "plt.show()\n"
   ]
  },
  {
   "cell_type": "code",
   "execution_count": 22,
   "metadata": {},
   "outputs": [],
   "source": [
    "def cross_val(filename, folds, dataset):\n",
    "    with open(filename, 'r') as csvfile:\n",
    "        lines = csv.reader(csvfile)\n",
    "        dataset = list(lines)\n",
    "        for x in range(len(dataset)-1):\n",
    "            for y in range(4):\n",
    "                dataset[x][y] = float(dataset[x][y])\n",
    "            if random.random() < split:\n",
    "                trainingSet.append(dataset[x])\n",
    "            else:\n",
    "                testSet.append(dataset[x])"
   ]
  },
  {
   "cell_type": "code",
   "execution_count": 23,
   "metadata": {},
   "outputs": [],
   "source": [
    "import numpy as np\n",
    "import itertools\n",
    "\n",
    "def fold_n(dataset, i, k):\n",
    "    n = len(dataset)\n",
    "    test_set = dataset[n*(i-1)//k:n*i//k]\n",
    "    return test_set\n",
    "\n",
    "with open('iris.csv', 'r') as csvfile:\n",
    "    lines = csv.reader(csvfile)\n",
    "    folds = 5\n",
    "    dataset = list(lines)\n",
    "    n = len(dataset)\n",
    "    train_arr = []\n",
    "    test_arr = []\n",
    "    for i in range(folds):\n",
    "        test = fold_n(dataset,i+1,folds)\n",
    "        test_arr.append(test)"
   ]
  },
  {
   "cell_type": "code",
   "execution_count": 24,
   "metadata": {},
   "outputs": [],
   "source": [
    "train_set = []\n",
    "finally_train = []\n",
    "for l in range(5):\n",
    "    train = [n for i,n in enumerate(test_arr) if i!=l]\n",
    "    finally_train.append(list(itertools.chain.from_iterable(train)))"
   ]
  },
  {
   "cell_type": "code",
   "execution_count": null,
   "metadata": {},
   "outputs": [],
   "source": []
  },
  {
   "cell_type": "code",
   "execution_count": 25,
   "metadata": {},
   "outputs": [],
   "source": [
    "from statistics import mean\n",
    "pred_final = []\n",
    "cross_sek_acc = {}\n",
    "kVals = [3, 5, 9, 13, 17]\n",
    "for k in kVals:\n",
    "    acc = []\n",
    "    for s in range(5):\n",
    "        pred = []\n",
    "        train = finally_train[s]\n",
    "        test = test_arr[s]\n",
    "        for t in train:\n",
    "            t[0] = float(t[0])\n",
    "            t[1] = float(t[1])\n",
    "            t[2] = float(t[2])\n",
    "            t[3] = float(t[3])\n",
    "        for t in test:\n",
    "            t[0] = float(t[0])\n",
    "            t[1] = float(t[1])\n",
    "            t[2] = float(t[2])\n",
    "            t[3] = float(t[3]) \n",
    "        for x in range(len(test)):\n",
    "            neighbors = getNeighbors(train, test[x], k)\n",
    "            result = getResponse(neighbors)\n",
    "            pred.append(result)\n",
    "        accuracy = getAccuracy(test, pred)\n",
    "        acc.append(accuracy)\n",
    "    cross_sek_acc[k] = mean(acc)"
   ]
  },
  {
   "cell_type": "code",
   "execution_count": 26,
   "metadata": {},
   "outputs": [
    {
     "data": {
      "text/plain": [
       "{3: 90.66666666666667,\n",
       " 5: 91.33333333333333,\n",
       " 9: 92.0,\n",
       " 13: 90.66666666666667,\n",
       " 17: 87.33333333333333}"
      ]
     },
     "execution_count": 26,
     "metadata": {},
     "output_type": "execute_result"
    }
   ],
   "source": [
    "cross_sek_acc"
   ]
  },
  {
   "cell_type": "code",
   "execution_count": 27,
   "metadata": {},
   "outputs": [
    {
     "data": {
      "image/png": "[encoded data removed]",
      "text/plain": [
       "<Figure size 432x288 with 1 Axes>"
      ]
     },
     "metadata": {
      "needs_background": "light"
     },
     "output_type": "display_data"
    }
   ],
   "source": [
    "kNN_kval = [3, 5, 9, 13, 17]\n",
    "lists = sorted(cross_sek_acc.items())\n",
    "x, y = zip(*lists)\n",
    "\n",
    "plt.plot(x, y, label=\"N = 5\", marker=\"o\")\n",
    "plt.xlabel(\"k Values\")\n",
    "plt.ylabel(\"Accuracy\")\n",
    "plt.title(\"Cross validation accuracy with different K Values\")\n",
    "plt.legend()\n",
    "plt.xticks(kNN_kval)\n",
    "plt.show()"
   ]
  },
  {
   "cell_type": "code",
   "execution_count": 28,
   "metadata": {},
   "outputs": [],
   "source": [
    "from sklearn.model_selection import train_test_split, cross_val_score\n",
    "from sklearn.neighbors import KNeighborsClassifier"
   ]
  },
  {
   "cell_type": "code",
   "execution_count": 29,
   "metadata": {},
   "outputs": [],
   "source": [
    "df_iris = pd.read_csv('iris.csv', header=None)"
   ]
  },
  {
   "cell_type": "code",
   "execution_count": 30,
   "metadata": {},
   "outputs": [],
   "source": [
    "y = df_iris.iloc[:,-1]\n",
    "X = df_iris.iloc[:,:-1]\n"
   ]
  },
  {
   "cell_type": "code",
   "execution_count": 31,
   "metadata": {},
   "outputs": [],
   "source": [
    "cross_acc_dict = {}\n",
    "for kVal in kNN_kval:\n",
    "    kNN = KNeighborsClassifier(n_neighbors=kVal)\n",
    "    scores = cross_val_score(kNN, X, y, cv=5)\n",
    "    cross_acc_dict[kVal] = scores.mean()"
   ]
  },
  {
   "cell_type": "code",
   "execution_count": 32,
   "metadata": {},
   "outputs": [
    {
     "data": {
      "text/plain": [
       "{3: 0.9666666666666668,\n",
       " 5: 0.9733333333333334,\n",
       " 9: 0.9733333333333334,\n",
       " 13: 0.9733333333333334,\n",
       " 17: 0.9666666666666668}"
      ]
     },
     "execution_count": 32,
     "metadata": {},
     "output_type": "execute_result"
    }
   ],
   "source": [
    "cross_acc_dict"
   ]
  },
  {
   "cell_type": "code",
   "execution_count": 33,
   "metadata": {},
   "outputs": [
    {
     "data": {
      "image/png": "[encoded data removed]",
      "text/plain": [
       "<Figure size 432x288 with 1 Axes>"
      ]
     },
     "metadata": {
      "needs_background": "light"
     },
     "output_type": "display_data"
    }
   ],
   "source": [
    "lists = sorted(cross_acc_dict.items())\n",
    "x, y = zip(*lists)\n",
    "\n",
    "plt.plot(x, y, label=\"N = 5\", marker=\"o\")\n",
    "plt.xlabel(\"k Values\")\n",
    "plt.ylabel(\"Mean Accuracy\")\n",
    "plt.title(\"Cross validation mean accuracy with different K Values\")\n",
    "plt.legend()\n",
    "plt.xticks(kNN_kval)\n",
    "plt.show()"
   ]
  }
 ],
 "metadata": {
  "kernelspec": {
   "display_name": "Python 3",
   "language": "python",
   "name": "python3"
  },
  "language_info": {
   "codemirror_mode": {
    "name": "ipython",
    "version": 3
   },
   "file_extension": ".py",
   "mimetype": "text/x-python",
   "name": "python",
   "nbconvert_exporter": "python",
   "pygments_lexer": "ipython3",
   "version": "3.7.3"
  }
 },
 "nbformat": 4,
 "nbformat_minor": 2
}
