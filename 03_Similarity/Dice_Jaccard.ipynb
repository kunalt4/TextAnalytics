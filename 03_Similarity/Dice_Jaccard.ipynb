{
 "cells": [
  {
   "cell_type": "code",
   "execution_count": 34,
   "metadata": {},
   "outputs": [],
   "source": [
    "import nltk\n",
    "import string\n",
    "from nltk.corpus import stopwords"
   ]
  },
  {
   "cell_type": "code",
   "execution_count": 110,
   "metadata": {},
   "outputs": [],
   "source": [
    "words = [\"Smith has hit the ball into the stands for a six, it's a maximum\", \"Smith has tried to hit the ball into the stands for a six, but he's out\", \"Smith has hit the ball into the stands for six runs, it's a maximum\", \"Smith has hit the ball into the hands, and he's out\", \"Steve Smith has hit the ball into the stands for a six, it's a maximum\", \"Steve Smith has hit the ball into the hands, and he's out\"]"
   ]
  },
  {
   "cell_type": "code",
   "execution_count": 111,
   "metadata": {},
   "outputs": [
    {
     "data": {
      "text/plain": [
       "[\"Smith has hit the ball into the stands for a six, it's a maximum\",\n",
       " \"Smith has tried to hit the ball into the stands for a six, but he's out\",\n",
       " \"Smith has hit the ball into the stands for six runs, it's a maximum\",\n",
       " \"Smith has hit the ball into the hands, and he's out\",\n",
       " \"Steve Smith has hit the ball into the stands for a six, it's a maximum\",\n",
       " \"Steve Smith has hit the ball into the hands, and he's out\"]"
      ]
     },
     "execution_count": 111,
     "metadata": {},
     "output_type": "execute_result"
    }
   ],
   "source": [
    "words"
   ]
  },
  {
   "cell_type": "code",
   "execution_count": 39,
   "metadata": {},
   "outputs": [],
   "source": [
    "tokens = []\n",
    "for word in range(len(words)):\n",
    "    words[word] = words[word].translate(words[word].maketrans('', '', string.punctuation))\n",
    "    tokens.append(nltk.word_tokenize(words[word]))\n",
    "words = tokens"
   ]
  },
  {
   "cell_type": "code",
   "execution_count": 40,
   "metadata": {},
   "outputs": [],
   "source": [
    "pos_tokens=[]\n",
    "stop = set(stopwords.words('english'))\n",
    "for docs in range(len(words)):\n",
    "    words\n",
    "    words[docs] = [w.lower() for w in words[docs]]\n",
    "    words[docs] = [w for w in words[docs] if w not in stop]\n",
    "    pos_tokens.append(nltk.pos_tag(words[docs]))"
   ]
  },
  {
   "cell_type": "code",
   "execution_count": 65,
   "metadata": {},
   "outputs": [
    {
     "data": {
      "text/plain": [
       "[['smith', 'hit', 'ball', 'stand', 'maximum'],\n",
       " ['smith', 'try', 'hit', 'ball', 'stand', 'he'],\n",
       " ['smith', 'hit', 'ball', 'stand', 'run', 'maximum'],\n",
       " ['smith', 'hit', 'ball', 'hand', 'he'],\n",
       " ['steve', 'smith', 'hit', 'ball', 'stand', 'maximum'],\n",
       " ['steve', 'smith', 'hit', 'ball', 'hand', 'he']]"
      ]
     },
     "execution_count": 65,
     "metadata": {},
     "output_type": "execute_result"
    }
   ],
   "source": [
    "def convert_tags_to_wordnet(tag):\n",
    "    if tag.startswith('V'):\n",
    "        return 'v'\n",
    "    elif tag.startswith('J'):\n",
    "        return 'a'\n",
    "    elif tag.startswith('R'):\n",
    "        return 'r'\n",
    "    elif tag.startswith('N'):\n",
    "        return 'n'\n",
    "    else:\n",
    "        return None\n",
    "    \n",
    "lemma = nltk.WordNetLemmatizer()\n",
    "lemmatized_words = []\n",
    "\n",
    "for token in pos_tokens:\n",
    "    w = []\n",
    "    for word in token:\n",
    "        converted_tag = convert_tags_to_wordnet(word[1])\n",
    "        if(converted_tag is not None):\n",
    "            out = lemma.lemmatize(word[0],converted_tag)\n",
    "            w.append(out)\n",
    "    lemmatized_words.append(w)\n",
    "lemmatized_words\n"
   ]
  },
  {
   "cell_type": "code",
   "execution_count": 66,
   "metadata": {},
   "outputs": [],
   "source": [
    "seperator = ' '\n",
    "for words in range(len(lemmatized_words)):\n",
    "    lemmatized_words[words] = seperator.join(lemmatized_words[words])\n",
    "final_word_feature = lemmatized_words "
   ]
  },
  {
   "cell_type": "code",
   "execution_count": 67,
   "metadata": {},
   "outputs": [],
   "source": [
    "def JaccardDistance(str1, str2):\n",
    "    set1 = set(str1.split())\n",
    "    set2 = set(str2.split())\n",
    "    jacInd = float(len(set1 & set2)) / len(set1 | set2)\n",
    "    ans = 1 - jacInd\n",
    "    return round(ans, 2)"
   ]
  },
  {
   "cell_type": "code",
   "execution_count": 58,
   "metadata": {},
   "outputs": [
    {
     "data": {
      "text/plain": [
       "0.33"
      ]
     },
     "execution_count": 58,
     "metadata": {},
     "output_type": "execute_result"
    }
   ],
   "source": [
    "JaccardDistance(final_word_feature[1],final_word_feature[0])"
   ]
  },
  {
   "cell_type": "code",
   "execution_count": 59,
   "metadata": {},
   "outputs": [
    {
     "data": {
      "text/plain": [
       "0.27"
      ]
     },
     "execution_count": 59,
     "metadata": {},
     "output_type": "execute_result"
    }
   ],
   "source": [
    "JaccardDistance(final_word_feature[1],final_word_feature[2])"
   ]
  },
  {
   "cell_type": "code",
   "execution_count": 60,
   "metadata": {},
   "outputs": [
    {
     "data": {
      "text/plain": [
       "0.08"
      ]
     },
     "execution_count": 60,
     "metadata": {},
     "output_type": "execute_result"
    }
   ],
   "source": [
    "JaccardDistance(final_word_feature[2], final_word_feature[0])"
   ]
  },
  {
   "cell_type": "code",
   "execution_count": 108,
   "metadata": {},
   "outputs": [
    {
     "data": {
      "text/plain": [
       "['smith hit ball stand maximum',\n",
       " 'smith try hit ball stand he',\n",
       " 'smith hit ball stand run maximum',\n",
       " 'smith hit ball hand he',\n",
       " 'steve smith hit ball stand maximum',\n",
       " 'steve smith hit ball hand he']"
      ]
     },
     "execution_count": 108,
     "metadata": {},
     "output_type": "execute_result"
    }
   ],
   "source": [
    "final_word_feature"
   ]
  },
  {
   "cell_type": "code",
   "execution_count": 61,
   "metadata": {},
   "outputs": [],
   "source": [
    "import itertools as it"
   ]
  },
  {
   "cell_type": "code",
   "execution_count": 81,
   "metadata": {},
   "outputs": [],
   "source": [
    "a = list(it.combinations(final_word_feature, 2))\n",
    "b = list(it.combinations(final_word_feature, 3))"
   ]
  },
  {
   "cell_type": "code",
   "execution_count": 107,
   "metadata": {},
   "outputs": [
    {
     "name": "stdout",
     "output_type": "stream",
     "text": [
      "('smith hit ball stand maximum', 'smith try hit ball stand he', 'smith hit ball stand run maximum')\n",
      "Jaccard Distances - String 1 and 2: \u001b[1m0.43\u001b[0m. String 2 and 3: \u001b[1m0.5\u001b[0m. String 1 and 3: \u001b[1m0.17\u001b[0m\n",
      "\u001b[1mTrue\u001b[0m\n",
      "('smith hit ball stand maximum', 'smith try hit ball stand he', 'smith hit ball hand he')\n",
      "Jaccard Distances - String 1 and 2: \u001b[1m0.43\u001b[0m. String 2 and 3: \u001b[1m0.43\u001b[0m. String 1 and 3: \u001b[1m0.57\u001b[0m\n",
      "\u001b[1mTrue\u001b[0m\n",
      "('smith hit ball stand maximum', 'smith try hit ball stand he', 'steve smith hit ball stand maximum')\n",
      "Jaccard Distances - String 1 and 2: \u001b[1m0.43\u001b[0m. String 2 and 3: \u001b[1m0.5\u001b[0m. String 1 and 3: \u001b[1m0.17\u001b[0m\n",
      "\u001b[1mTrue\u001b[0m\n",
      "('smith hit ball stand maximum', 'smith try hit ball stand he', 'steve smith hit ball hand he')\n",
      "Jaccard Distances - String 1 and 2: \u001b[1m0.43\u001b[0m. String 2 and 3: \u001b[1m0.5\u001b[0m. String 1 and 3: \u001b[1m0.62\u001b[0m\n",
      "\u001b[1mTrue\u001b[0m\n",
      "('smith hit ball stand maximum', 'smith hit ball stand run maximum', 'smith hit ball hand he')\n",
      "Jaccard Distances - String 1 and 2: \u001b[1m0.17\u001b[0m. String 2 and 3: \u001b[1m0.62\u001b[0m. String 1 and 3: \u001b[1m0.57\u001b[0m\n",
      "\u001b[1mTrue\u001b[0m\n",
      "('smith hit ball stand maximum', 'smith hit ball stand run maximum', 'steve smith hit ball stand maximum')\n",
      "Jaccard Distances - String 1 and 2: \u001b[1m0.17\u001b[0m. String 2 and 3: \u001b[1m0.29\u001b[0m. String 1 and 3: \u001b[1m0.17\u001b[0m\n",
      "\u001b[1mTrue\u001b[0m\n",
      "('smith hit ball stand maximum', 'smith hit ball stand run maximum', 'steve smith hit ball hand he')\n",
      "Jaccard Distances - String 1 and 2: \u001b[1m0.17\u001b[0m. String 2 and 3: \u001b[1m0.67\u001b[0m. String 1 and 3: \u001b[1m0.62\u001b[0m\n",
      "\u001b[1mTrue\u001b[0m\n",
      "('smith hit ball stand maximum', 'smith hit ball hand he', 'steve smith hit ball stand maximum')\n",
      "Jaccard Distances - String 1 and 2: \u001b[1m0.57\u001b[0m. String 2 and 3: \u001b[1m0.62\u001b[0m. String 1 and 3: \u001b[1m0.17\u001b[0m\n",
      "\u001b[1mTrue\u001b[0m\n",
      "('smith hit ball stand maximum', 'smith hit ball hand he', 'steve smith hit ball hand he')\n",
      "Jaccard Distances - String 1 and 2: \u001b[1m0.57\u001b[0m. String 2 and 3: \u001b[1m0.17\u001b[0m. String 1 and 3: \u001b[1m0.62\u001b[0m\n",
      "\u001b[1mTrue\u001b[0m\n",
      "('smith hit ball stand maximum', 'steve smith hit ball stand maximum', 'steve smith hit ball hand he')\n",
      "Jaccard Distances - String 1 and 2: \u001b[1m0.17\u001b[0m. String 2 and 3: \u001b[1m0.5\u001b[0m. String 1 and 3: \u001b[1m0.62\u001b[0m\n",
      "\u001b[1mTrue\u001b[0m\n",
      "('smith try hit ball stand he', 'smith hit ball stand run maximum', 'smith hit ball hand he')\n",
      "Jaccard Distances - String 1 and 2: \u001b[1m0.5\u001b[0m. String 2 and 3: \u001b[1m0.62\u001b[0m. String 1 and 3: \u001b[1m0.43\u001b[0m\n",
      "\u001b[1mTrue\u001b[0m\n",
      "('smith try hit ball stand he', 'smith hit ball stand run maximum', 'steve smith hit ball stand maximum')\n",
      "Jaccard Distances - String 1 and 2: \u001b[1m0.5\u001b[0m. String 2 and 3: \u001b[1m0.29\u001b[0m. String 1 and 3: \u001b[1m0.5\u001b[0m\n",
      "\u001b[1mTrue\u001b[0m\n",
      "('smith try hit ball stand he', 'smith hit ball stand run maximum', 'steve smith hit ball hand he')\n",
      "Jaccard Distances - String 1 and 2: \u001b[1m0.5\u001b[0m. String 2 and 3: \u001b[1m0.67\u001b[0m. String 1 and 3: \u001b[1m0.5\u001b[0m\n",
      "\u001b[1mTrue\u001b[0m\n",
      "('smith try hit ball stand he', 'smith hit ball hand he', 'steve smith hit ball stand maximum')\n",
      "Jaccard Distances - String 1 and 2: \u001b[1m0.43\u001b[0m. String 2 and 3: \u001b[1m0.62\u001b[0m. String 1 and 3: \u001b[1m0.5\u001b[0m\n",
      "\u001b[1mTrue\u001b[0m\n",
      "('smith try hit ball stand he', 'smith hit ball hand he', 'steve smith hit ball hand he')\n",
      "Jaccard Distances - String 1 and 2: \u001b[1m0.43\u001b[0m. String 2 and 3: \u001b[1m0.17\u001b[0m. String 1 and 3: \u001b[1m0.5\u001b[0m\n",
      "\u001b[1mTrue\u001b[0m\n",
      "('smith try hit ball stand he', 'steve smith hit ball stand maximum', 'steve smith hit ball hand he')\n",
      "Jaccard Distances - String 1 and 2: \u001b[1m0.5\u001b[0m. String 2 and 3: \u001b[1m0.5\u001b[0m. String 1 and 3: \u001b[1m0.5\u001b[0m\n",
      "\u001b[1mTrue\u001b[0m\n",
      "('smith hit ball stand run maximum', 'smith hit ball hand he', 'steve smith hit ball stand maximum')\n",
      "Jaccard Distances - String 1 and 2: \u001b[1m0.62\u001b[0m. String 2 and 3: \u001b[1m0.62\u001b[0m. String 1 and 3: \u001b[1m0.29\u001b[0m\n",
      "\u001b[1mTrue\u001b[0m\n",
      "('smith hit ball stand run maximum', 'smith hit ball hand he', 'steve smith hit ball hand he')\n",
      "Jaccard Distances - String 1 and 2: \u001b[1m0.62\u001b[0m. String 2 and 3: \u001b[1m0.17\u001b[0m. String 1 and 3: \u001b[1m0.67\u001b[0m\n",
      "\u001b[1mTrue\u001b[0m\n",
      "('smith hit ball stand run maximum', 'steve smith hit ball stand maximum', 'steve smith hit ball hand he')\n",
      "Jaccard Distances - String 1 and 2: \u001b[1m0.29\u001b[0m. String 2 and 3: \u001b[1m0.5\u001b[0m. String 1 and 3: \u001b[1m0.67\u001b[0m\n",
      "\u001b[1mTrue\u001b[0m\n",
      "('smith hit ball hand he', 'steve smith hit ball stand maximum', 'steve smith hit ball hand he')\n",
      "Jaccard Distances - String 1 and 2: \u001b[1m0.62\u001b[0m. String 2 and 3: \u001b[1m0.5\u001b[0m. String 1 and 3: \u001b[1m0.17\u001b[0m\n",
      "\u001b[1mTrue\u001b[0m\n"
     ]
    }
   ],
   "source": [
    "for triples in b:\n",
    "    print(triples)\n",
    "    aa = JaccardDistance(triples[0],triples[1])\n",
    "    bb = JaccardDistance(triples[1],triples[2])\n",
    "    cc = JaccardDistance(triples[0],triples[2])\n",
    "    print(\"Jaccard Distances - String 1 and 2: \" +'\\033[1m' + str(aa) +'\\x1b[0m'+ \". String 2 and 3: \" + '\\033[1m' +str(bb) +'\\x1b[0m'+ \". String 1 and 3: \" + '\\033[1m' +str(cc)+'\\x1b[0m')\n",
    "    if (aa + bb > cc) and (bb + cc > aa) and (aa + cc > bb):\n",
    "        print ('\\033[1m' + \"True\" +'\\x1b[0m')\n",
    "    else:\n",
    "        print('\\033[1m' + \"False\" +'\\x1b[0m')"
   ]
  },
  {
   "cell_type": "code",
   "execution_count": 73,
   "metadata": {},
   "outputs": [
    {
     "name": "stdout",
     "output_type": "stream",
     "text": [
      "('smith hit ball stand maximum', 'smith try hit ball stand he')\n",
      "0.43\n",
      "('smith hit ball stand maximum', 'smith hit ball stand run maximum')\n",
      "0.17\n",
      "('smith hit ball stand maximum', 'smith hit ball hand he')\n",
      "0.57\n",
      "('smith hit ball stand maximum', 'steve smith hit ball stand maximum')\n",
      "0.17\n",
      "('smith hit ball stand maximum', 'steve smith hit ball hand he')\n",
      "0.62\n",
      "('smith try hit ball stand he', 'smith hit ball stand run maximum')\n",
      "0.5\n",
      "('smith try hit ball stand he', 'smith hit ball hand he')\n",
      "0.43\n",
      "('smith try hit ball stand he', 'steve smith hit ball stand maximum')\n",
      "0.5\n",
      "('smith try hit ball stand he', 'steve smith hit ball hand he')\n",
      "0.5\n",
      "('smith hit ball stand run maximum', 'smith hit ball hand he')\n",
      "0.62\n",
      "('smith hit ball stand run maximum', 'steve smith hit ball stand maximum')\n",
      "0.29\n",
      "('smith hit ball stand run maximum', 'steve smith hit ball hand he')\n",
      "0.67\n",
      "('smith hit ball hand he', 'steve smith hit ball stand maximum')\n",
      "0.62\n",
      "('smith hit ball hand he', 'steve smith hit ball hand he')\n",
      "0.17\n",
      "('steve smith hit ball stand maximum', 'steve smith hit ball hand he')\n",
      "0.5\n"
     ]
    }
   ],
   "source": [
    "for pairs in a:\n",
    "    print(pairs)\n",
    "    print(JaccardDistance(pairs[0],pairs[1]))"
   ]
  },
  {
   "cell_type": "code",
   "execution_count": 78,
   "metadata": {},
   "outputs": [],
   "source": [
    "def DiceCoefficientDistance(str1, str2):\n",
    "    set1 = set(str1.split())\n",
    "    set2 = set(str2.split())\n",
    "    intersec = len(set1 & set2)\n",
    "    diceCoeff = (2 * intersec) / (len(set1)+len(set2))\n",
    "    ans = 1 - diceCoeff\n",
    "    return round(ans, 2)"
   ]
  },
  {
   "cell_type": "code",
   "execution_count": 79,
   "metadata": {},
   "outputs": [
    {
     "name": "stdout",
     "output_type": "stream",
     "text": [
      "('smith hit ball stand maximum', 'smith try hit ball stand he')\n",
      "0.27\n",
      "('smith hit ball stand maximum', 'smith hit ball stand run maximum')\n",
      "0.09\n",
      "('smith hit ball stand maximum', 'smith hit ball hand he')\n",
      "0.4\n",
      "('smith hit ball stand maximum', 'steve smith hit ball stand maximum')\n",
      "0.09\n",
      "('smith hit ball stand maximum', 'steve smith hit ball hand he')\n",
      "0.45\n",
      "('smith try hit ball stand he', 'smith hit ball stand run maximum')\n",
      "0.33\n",
      "('smith try hit ball stand he', 'smith hit ball hand he')\n",
      "0.27\n",
      "('smith try hit ball stand he', 'steve smith hit ball stand maximum')\n",
      "0.33\n",
      "('smith try hit ball stand he', 'steve smith hit ball hand he')\n",
      "0.33\n",
      "('smith hit ball stand run maximum', 'smith hit ball hand he')\n",
      "0.45\n",
      "('smith hit ball stand run maximum', 'steve smith hit ball stand maximum')\n",
      "0.17\n",
      "('smith hit ball stand run maximum', 'steve smith hit ball hand he')\n",
      "0.5\n",
      "('smith hit ball hand he', 'steve smith hit ball stand maximum')\n",
      "0.45\n",
      "('smith hit ball hand he', 'steve smith hit ball hand he')\n",
      "0.09\n",
      "('steve smith hit ball stand maximum', 'steve smith hit ball hand he')\n",
      "0.33\n"
     ]
    }
   ],
   "source": [
    "for pairs in a:\n",
    "    print(pairs)\n",
    "    print(DiceCoefficientDistance(pairs[0],pairs[1]))"
   ]
  },
  {
   "cell_type": "code",
   "execution_count": 105,
   "metadata": {},
   "outputs": [
    {
     "name": "stdout",
     "output_type": "stream",
     "text": [
      "('smith hit ball stand maximum', 'smith try hit ball stand he', 'smith hit ball stand run maximum')\n",
      "Dice Coefficient Distances - String 1 and 2: \u001b[1m0.27\u001b[0m. String 2 and 3: \u001b[1m0.33\u001b[0m. String 1 and 3: \u001b[1m0.09\u001b[0m\n",
      "True\n",
      "('smith hit ball stand maximum', 'smith try hit ball stand he', 'smith hit ball hand he')\n",
      "Dice Coefficient Distances - String 1 and 2: \u001b[1m0.27\u001b[0m. String 2 and 3: \u001b[1m0.27\u001b[0m. String 1 and 3: \u001b[1m0.4\u001b[0m\n",
      "True\n",
      "('smith hit ball stand maximum', 'smith try hit ball stand he', 'steve smith hit ball stand maximum')\n",
      "Dice Coefficient Distances - String 1 and 2: \u001b[1m0.27\u001b[0m. String 2 and 3: \u001b[1m0.33\u001b[0m. String 1 and 3: \u001b[1m0.09\u001b[0m\n",
      "True\n",
      "('smith hit ball stand maximum', 'smith try hit ball stand he', 'steve smith hit ball hand he')\n",
      "Dice Coefficient Distances - String 1 and 2: \u001b[1m0.27\u001b[0m. String 2 and 3: \u001b[1m0.33\u001b[0m. String 1 and 3: \u001b[1m0.45\u001b[0m\n",
      "True\n",
      "('smith hit ball stand maximum', 'smith hit ball stand run maximum', 'smith hit ball hand he')\n",
      "Dice Coefficient Distances - String 1 and 2: \u001b[1m0.09\u001b[0m. String 2 and 3: \u001b[1m0.45\u001b[0m. String 1 and 3: \u001b[1m0.4\u001b[0m\n",
      "True\n",
      "('smith hit ball stand maximum', 'smith hit ball stand run maximum', 'steve smith hit ball stand maximum')\n",
      "Dice Coefficient Distances - String 1 and 2: \u001b[1m0.09\u001b[0m. String 2 and 3: \u001b[1m0.17\u001b[0m. String 1 and 3: \u001b[1m0.09\u001b[0m\n",
      "True\n",
      "('smith hit ball stand maximum', 'smith hit ball stand run maximum', 'steve smith hit ball hand he')\n",
      "Dice Coefficient Distances - String 1 and 2: \u001b[1m0.09\u001b[0m. String 2 and 3: \u001b[1m0.5\u001b[0m. String 1 and 3: \u001b[1m0.45\u001b[0m\n",
      "True\n",
      "('smith hit ball stand maximum', 'smith hit ball hand he', 'steve smith hit ball stand maximum')\n",
      "Dice Coefficient Distances - String 1 and 2: \u001b[1m0.4\u001b[0m. String 2 and 3: \u001b[1m0.45\u001b[0m. String 1 and 3: \u001b[1m0.09\u001b[0m\n",
      "True\n",
      "('smith hit ball stand maximum', 'smith hit ball hand he', 'steve smith hit ball hand he')\n",
      "Dice Coefficient Distances - String 1 and 2: \u001b[1m0.4\u001b[0m. String 2 and 3: \u001b[1m0.09\u001b[0m. String 1 and 3: \u001b[1m0.45\u001b[0m\n",
      "True\n",
      "('smith hit ball stand maximum', 'steve smith hit ball stand maximum', 'steve smith hit ball hand he')\n",
      "Dice Coefficient Distances - String 1 and 2: \u001b[1m0.09\u001b[0m. String 2 and 3: \u001b[1m0.33\u001b[0m. String 1 and 3: \u001b[1m0.45\u001b[0m\n",
      "False\n",
      "('smith try hit ball stand he', 'smith hit ball stand run maximum', 'smith hit ball hand he')\n",
      "Dice Coefficient Distances - String 1 and 2: \u001b[1m0.33\u001b[0m. String 2 and 3: \u001b[1m0.45\u001b[0m. String 1 and 3: \u001b[1m0.27\u001b[0m\n",
      "True\n",
      "('smith try hit ball stand he', 'smith hit ball stand run maximum', 'steve smith hit ball stand maximum')\n",
      "Dice Coefficient Distances - String 1 and 2: \u001b[1m0.33\u001b[0m. String 2 and 3: \u001b[1m0.17\u001b[0m. String 1 and 3: \u001b[1m0.33\u001b[0m\n",
      "True\n",
      "('smith try hit ball stand he', 'smith hit ball stand run maximum', 'steve smith hit ball hand he')\n",
      "Dice Coefficient Distances - String 1 and 2: \u001b[1m0.33\u001b[0m. String 2 and 3: \u001b[1m0.5\u001b[0m. String 1 and 3: \u001b[1m0.33\u001b[0m\n",
      "True\n",
      "('smith try hit ball stand he', 'smith hit ball hand he', 'steve smith hit ball stand maximum')\n",
      "Dice Coefficient Distances - String 1 and 2: \u001b[1m0.27\u001b[0m. String 2 and 3: \u001b[1m0.45\u001b[0m. String 1 and 3: \u001b[1m0.33\u001b[0m\n",
      "True\n",
      "('smith try hit ball stand he', 'smith hit ball hand he', 'steve smith hit ball hand he')\n",
      "Dice Coefficient Distances - String 1 and 2: \u001b[1m0.27\u001b[0m. String 2 and 3: \u001b[1m0.09\u001b[0m. String 1 and 3: \u001b[1m0.33\u001b[0m\n",
      "True\n",
      "('smith try hit ball stand he', 'steve smith hit ball stand maximum', 'steve smith hit ball hand he')\n",
      "Dice Coefficient Distances - String 1 and 2: \u001b[1m0.33\u001b[0m. String 2 and 3: \u001b[1m0.33\u001b[0m. String 1 and 3: \u001b[1m0.33\u001b[0m\n",
      "True\n",
      "('smith hit ball stand run maximum', 'smith hit ball hand he', 'steve smith hit ball stand maximum')\n",
      "Dice Coefficient Distances - String 1 and 2: \u001b[1m0.45\u001b[0m. String 2 and 3: \u001b[1m0.45\u001b[0m. String 1 and 3: \u001b[1m0.17\u001b[0m\n",
      "True\n",
      "('smith hit ball stand run maximum', 'smith hit ball hand he', 'steve smith hit ball hand he')\n",
      "Dice Coefficient Distances - String 1 and 2: \u001b[1m0.45\u001b[0m. String 2 and 3: \u001b[1m0.09\u001b[0m. String 1 and 3: \u001b[1m0.5\u001b[0m\n",
      "True\n",
      "('smith hit ball stand run maximum', 'steve smith hit ball stand maximum', 'steve smith hit ball hand he')\n",
      "Dice Coefficient Distances - String 1 and 2: \u001b[1m0.17\u001b[0m. String 2 and 3: \u001b[1m0.33\u001b[0m. String 1 and 3: \u001b[1m0.5\u001b[0m\n",
      "False\n",
      "('smith hit ball hand he', 'steve smith hit ball stand maximum', 'steve smith hit ball hand he')\n",
      "Dice Coefficient Distances - String 1 and 2: \u001b[1m0.45\u001b[0m. String 2 and 3: \u001b[1m0.33\u001b[0m. String 1 and 3: \u001b[1m0.09\u001b[0m\n",
      "False\n"
     ]
    }
   ],
   "source": [
    "for triples in b:\n",
    "    print(triples)\n",
    "    aa = DiceCoefficientDistance(triples[0],triples[1])\n",
    "    bb = DiceCoefficientDistance(triples[1],triples[2])\n",
    "    cc = DiceCoefficientDistance(triples[0],triples[2])\n",
    "    print(\"Dice Coefficient Distances - String 1 and 2: \" + '\\033[1m' + str(aa) +'\\x1b[0m'+ \". String 2 and 3: \" + '\\033[1m' + str(bb)+'\\x1b[0m' + \". String 1 and 3: \" + '\\033[1m' + str(cc)+'\\x1b[0m')\n",
    "    if (aa + bb > cc) and (bb + cc > aa) and (aa + cc > bb):\n",
    "        print ('\\033[1m' +\"True\" +'\\x1b[0m'+)\n",
    "    else:\n",
    "        print('\\033[1m' +\"False\" +'\\x1b[0m'+)"
   ]
  }
 ],
 "metadata": {
  "kernelspec": {
   "display_name": "Python 3",
   "language": "python",
   "name": "python3"
  },
  "language_info": {
   "codemirror_mode": {
    "name": "ipython",
    "version": 3
   },
   "file_extension": ".py",
   "mimetype": "text/x-python",
   "name": "python",
   "nbconvert_exporter": "python",
   "pygments_lexer": "ipython3",
   "version": "3.7.3"
  }
 },
 "nbformat": 4,
 "nbformat_minor": 2
}
