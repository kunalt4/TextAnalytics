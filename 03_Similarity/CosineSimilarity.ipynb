{
 "cells": [
  {
   "cell_type": "code",
   "execution_count": 111,
   "metadata": {},
   "outputs": [],
   "source": [
    "# %load CosineCommented.py\n",
    "__author__ = 'user'\n",
    "# bits from http://stackoverflow.com/questions/15173225/how-to-calculate-cosine-similarity-given-2-sentence-strings-python\n",
    "# load_docs, process_docs and compute_vector by MK\n",
    "import math\n",
    "from collections import Counter\n",
    "\n",
    "vector_dict = {}                                       #Dict that will hold tf-idf matrix\n",
    "\n",
    "#Just loads in all the documents\n",
    "def load_docs():\n",
    " print(\"Loading docs...\")\n",
    " doc1=('d1', \"Yorkshire County Cricket Club is one of eighteen first-class county clubs within the domestic cricket structure of England and Wales. It represents the historic county of Yorkshire. It is a first-class team.\")\n",
    " doc2=('d2', \"Yorkshire County Cricket play in the County Championship since the official start of the competition in 1890 and have played in every top-level domestic cricket competition in England.\")\n",
    " doc3=('d3', \"Yorkshire County Cricket play most of their home games at the Headingley Cricket Ground in Leeds. Another significant venue is at North Marine Road Ground, Scarborough, which houses the annual Scarborough Festival.\")\n",
    " return [doc1, doc2,doc3]"
   ]
  },
  {
   "cell_type": "code",
   "execution_count": 112,
   "metadata": {},
   "outputs": [
    {
     "name": "stdout",
     "output_type": "stream",
     "text": [
      "Loading docs...\n",
      "d1 {'cricket': 0.0, 'england': 0.4771, 'is': 0.3522, 'wales.': 0.4771, 'yorkshire': 0.0, 'yorkshire.': 0.4771, 'one': 0.4771, 'first-class': 0.9542, 'eighteen': 0.4771, 'clubs': 0.4771, 'structure': 0.4771, 'domestic': 0.1761, 'team.': 0.4771, 'historic': 0.4771, 'represents': 0.4771, 'club': 0.4771, 'the': 0.0, 'within': 0.4771, 'it': 0.9542, 'a': 0.4771, 'county': 0.0}\n",
      "d2 {'yorkshire': 0.0, 'the': 0.0, 'have': 0.4771, 'cricket': 0.0, 'every': 0.4771, 'england.': 0.4771, 'played': 0.4771, 'competition': 0.9542, 'top-level': 0.4771, 'domestic': 0.1761, '1890': 0.4771, 'official': 0.4771, 'championship': 0.4771, 'since': 0.4771, 'play': 0.1761, 'start': 0.4771, 'county': 0.0}\n",
      "d3 {'cricket': 0.0, 'festival.': 0.4771, 'venue': 0.4771, 'is': 0.1761, 'scarborough,': 0.4771, 'another': 0.4771, 'yorkshire': 0.0, 'most': 0.4771, 'houses': 0.4771, 'headingley': 0.4771, 'significant': 0.4771, 'north': 0.4771, 'annual': 0.4771, 'leeds.': 0.4771, 'home': 0.4771, 'which': 0.4771, 'ground,': 0.4771, 'games': 0.4771, 'play': 0.1761, 'ground': 0.4771, 'the': 0.0, 'road': 0.4771, 'scarborough': 0.4771, 'marine': 0.4771, 'their': 0.4771, 'at': 0.9542, 'county': 0.0}\n",
      "Cosine d1 & d2: 0.008\n",
      "Cosine d1 & d3: 0.012\n",
      "Cosine d2 & d3: 0.007\n"
     ]
    }
   ],
   "source": [
    "#Computes TF for words in each doc, DF for all features in all docs; finally whole Tf-IDF matrix\n",
    "def process_docs(all_dcs):\n",
    " stop_words = [ 'of', 'and', 'on','in' ]\n",
    " all_words = []                                         #list to collect all unique words in each docs\n",
    " counts_dict = {}                                       #dict to collect doc data, word-counts and word-lists\n",
    " for doc in all_dcs:\n",
    "    words = [x.lower() for x in doc[1].split() if x not in stop_words]\n",
    "    words_counted = Counter(words)                      #counts words in a doc\n",
    "    unique_words = list(words_counted.keys())           #list of the unique words in the doc\n",
    "    counts_dict[doc[0]] = words_counted                 #make dict entry {'d1' : {'a': 1, 'b':6}}\n",
    "    all_words = all_words + unique_words                #collect all unique words from each doc; bit hacky\n",
    " n = len(counts_dict)                                   #number of documents is no of entries in dict\n",
    " df_counts = Counter(all_words)                         #DF of all unique words from each doc, counted\n",
    " compute_vector_len(counts_dict, n, df_counts)          #computes TF-IDF for all words in all docs\n",
    "\n",
    "\n",
    "#computes TF-IDF for all words in all docs\n",
    "def compute_vector_len(doc_dict, no, df_counts):\n",
    "  global vector_dict\n",
    "  for doc_name in doc_dict:                              #for each doc\n",
    "    doc_words = doc_dict[doc_name].keys()                #get all the unique words in the doc\n",
    "    wd_tfidf_scores = {}\n",
    "    for wd in list(set(doc_words)):                      #for each word in the doc\n",
    "        wds_cts = doc_dict[doc_name]                     #get the word-counts-dict for the doc\n",
    "        wd_tf_idf = wds_cts[wd] * math.log(no / df_counts[wd], 10)   #compute TF-IDF\n",
    "        wd_tfidf_scores[wd] = round(wd_tf_idf, 4)        #store Tf-IDf scores with word\n",
    "    vector_dict[doc_name] = wd_tfidf_scores              #store all Tf-IDf scores for words with doc_name\n",
    "\n",
    "\n",
    "def get_cosine(text1, text2):\n",
    "     vec1 = vector_dict[text1]\n",
    "     vec2 = vector_dict[text2]\n",
    "     intersection = set(vec1.keys()) & set(vec2.keys())\n",
    "     #NB strictly, this is not really correct, needs vector of all features with zeros\n",
    "     numerator = sum([vec1[x] * vec2[x] for x in intersection])\n",
    "     sum1 = sum([vec1[x]**2 for x in vec1.keys()])\n",
    "     sum2 = sum([vec2[x]**2 for x in vec2.keys()])\n",
    "     denominator = math.sqrt(sum1) * math.sqrt(sum2)\n",
    "     if not denominator:\n",
    "        return 0.0\n",
    "     else:\n",
    "        return round(float(numerator) / denominator, 3)\n",
    "\n",
    "\n",
    "\n",
    "#RUN THE DEFINED FNS\n",
    "\n",
    "all_docs = load_docs()\n",
    "process_docs(all_docs)\n",
    "\n",
    "for keys,values in vector_dict.items(): print(keys, values)\n",
    "\n",
    "text1 = 'd1'\n",
    "text2 = 'd2'\n",
    "cosine = get_cosine(text1, text2)\n",
    "print('Cosine d1 & d2:', cosine)\n",
    "\n",
    "text1 = 'd1'\n",
    "text2 = 'd3'\n",
    "cosine = get_cosine(text1, text2)\n",
    "print('Cosine d1 & d3:', cosine)\n",
    "\n",
    "text1 = 'd2'\n",
    "text2 = 'd3'\n",
    "cosine = get_cosine(text1, text2)\n",
    "print('Cosine d2 & d3:', cosine)"
   ]
  },
  {
   "cell_type": "code",
   "execution_count": 115,
   "metadata": {},
   "outputs": [],
   "source": [
    "def load_docs_again():\n",
    " print(\"Loading docs...\")\n",
    " doc1=('d1', \"Yorkshire County Cricket Club is one of eighteen first-class county clubs within the domestic cricket structure of England and Wales. It represents the historic county of Yorkshire. It is a first-class team.\")\n",
    " doc2=('d2', \"Yorkshire County Cricket play in the County Championship since the official start of the competition in 1890 and have played in every top-level domestic cricket competition in England.\")\n",
    " doc3=('d3', \"Yorkshire County Cricket play most of their home games at the Headingley Cricket Ground in Leeds. Another significant venue is at North Marine Road Ground, Scarborough, which houses the annual Scarborough Festival.\")\n",
    " doc4=('d4',\"Yorkshire County Cricket Team is one of eighteen first-class clubs within the domestic cricket structure of England and Wales. It represents the historic state of Yorkshire. It is a first-class team.\")\n",
    " doc5=('d5',\"Yorkshire County Cricket Club is one of eighteen first-class clubs within the cricket structure of England. It constitutes the historic county of Yorkshire. It is a first-class team.\")\n",
    " doc6=('d6',\"Yorkshire Cricket Club is one of eighteen first-class clubs within the domestic cricket structure of England and Wales. It represents the historic state of Yorkshire. It is a first-class club.\")\n",
    " doc7=('d7',\"Yorkshire County is one of 18 first-class teams within the domestic cricket composition of England and Wales. It represents the county of Yorkshire. It is a first-class county.\")\n",
    " doc8=('d8',\"Yorkshire County Cricket Club is a first-class club within domestic cricket of England and Wales. It is based out of the historic county of Yorkshire. It is a first-class club.\")\n",
    "\n",
    " return [doc1, doc2,doc3, doc4, doc5, doc6, doc7, doc8]"
   ]
  },
  {
   "cell_type": "code",
   "execution_count": 116,
   "metadata": {},
   "outputs": [
    {
     "name": "stdout",
     "output_type": "stream",
     "text": [
      "Loading docs...\n",
      "d1 {'cricket': 0.0, 'england': 0.2041, 'is': 0.116, 'wales.': 0.2041, 'yorkshire': 0.0, 'yorkshire.': 0.1249, 'one': 0.2041, 'first-class': 0.2499, 'eighteen': 0.301, 'clubs': 0.301, 'structure': 0.301, 'domestic': 0.1249, 'team.': 0.426, 'historic': 0.2041, 'represents': 0.301, 'club': 0.301, 'the': 0.0, 'within': 0.1249, 'it': 0.2499, 'a': 0.1249, 'county': 0.174}\n",
      "d2 {'yorkshire': 0.0, 'the': 0.0, 'have': 0.9031, 'cricket': 0.0, 'every': 0.9031, 'england.': 0.6021, 'played': 0.9031, 'competition': 1.8062, 'top-level': 0.9031, 'domestic': 0.1249, '1890': 0.9031, 'official': 0.9031, 'championship': 0.9031, 'since': 0.9031, 'play': 0.6021, 'start': 0.9031, 'county': 0.116}\n",
      "d3 {'cricket': 0.0, 'festival.': 0.9031, 'venue': 0.9031, 'is': 0.058, 'scarborough,': 0.9031, 'another': 0.9031, 'yorkshire': 0.0, 'most': 0.9031, 'houses': 0.9031, 'headingley': 0.9031, 'significant': 0.9031, 'north': 0.9031, 'annual': 0.9031, 'leeds.': 0.9031, 'home': 0.9031, 'which': 0.9031, 'ground,': 0.9031, 'games': 0.9031, 'play': 0.6021, 'ground': 0.9031, 'the': 0.0, 'road': 0.9031, 'scarborough': 0.9031, 'marine': 0.9031, 'their': 0.9031, 'at': 1.8062, 'county': 0.058}\n",
      "d4 {'cricket': 0.0, 'team': 0.9031, 'england': 0.2041, 'is': 0.116, 'wales.': 0.2041, 'yorkshire': 0.0, 'yorkshire.': 0.1249, 'one': 0.2041, 'state': 0.6021, 'first-class': 0.2499, 'eighteen': 0.301, 'clubs': 0.301, 'structure': 0.301, 'domestic': 0.1249, 'team.': 0.426, 'historic': 0.2041, 'represents': 0.301, 'the': 0.0, 'within': 0.1249, 'it': 0.2499, 'a': 0.1249, 'county': 0.058}\n",
      "d5 {'cricket': 0.0, 'england.': 0.6021, 'is': 0.116, 'yorkshire': 0.0, 'yorkshire.': 0.1249, 'one': 0.2041, 'constitutes': 0.9031, 'first-class': 0.2499, 'eighteen': 0.301, 'clubs': 0.301, 'structure': 0.301, 'team.': 0.426, 'historic': 0.2041, 'club': 0.301, 'the': 0.0, 'within': 0.1249, 'it': 0.2499, 'a': 0.1249, 'county': 0.116}\n",
      "d6 {'cricket': 0.0, 'england': 0.2041, 'is': 0.116, 'wales.': 0.2041, 'club.': 0.6021, 'yorkshire': 0.0, 'yorkshire.': 0.1249, 'one': 0.2041, 'state': 0.6021, 'first-class': 0.2499, 'eighteen': 0.301, 'clubs': 0.301, 'structure': 0.301, 'domestic': 0.1249, 'historic': 0.2041, 'represents': 0.301, 'club': 0.301, 'the': 0.0, 'within': 0.1249, 'it': 0.2499, 'a': 0.1249}\n",
      "d7 {'cricket': 0.0, 'england': 0.2041, 'is': 0.116, 'wales.': 0.2041, '18': 0.9031, 'yorkshire': 0.0, 'yorkshire.': 0.1249, 'one': 0.2041, 'composition': 0.9031, 'first-class': 0.2499, 'domestic': 0.1249, 'represents': 0.301, 'teams': 0.9031, 'the': 0.0, 'within': 0.1249, 'it': 0.2499, 'a': 0.1249, 'county': 0.116, 'county.': 0.9031}\n",
      "d8 {'yorkshire': 0.0, 'the': 0.0, 'yorkshire.': 0.1249, 'club.': 0.6021, 'cricket': 0.0, 'england': 0.2041, 'domestic': 0.1249, 'is': 0.174, 'wales.': 0.2041, 'historic': 0.2041, 'within': 0.1249, 'out': 0.9031, 'it': 0.2499, 'first-class': 0.2499, 'a': 0.2499, 'county': 0.116, 'based': 0.9031, 'club': 0.6021}\n",
      "Cosine d1 & d2: 0.01\n",
      "Cosine d1 & d3: 0.004\n",
      "Cosine d2 & d3: 0.025\n"
     ]
    }
   ],
   "source": [
    "all_docs = load_docs_again()\n",
    "process_docs(all_docs)\n",
    "# vector_dict['q'] = {'cricket' : 1, 'county' : 1, 'yorkshire' : 1}\n",
    "\n",
    "for keys,values in vector_dict.items(): print(keys, values)\n",
    "\n",
    "text1 = 'd1'\n",
    "text2 = 'd2'\n",
    "cosine = get_cosine(text1, text2)\n",
    "print('Cosine d1 & d2:', cosine)\n",
    "\n",
    "text1 = 'd1'\n",
    "text2 = 'd3'\n",
    "cosine = get_cosine(text1, text2)\n",
    "print('Cosine d1 & d3:', cosine)\n",
    "\n",
    "text1 = 'd2'\n",
    "text2 = 'd3'\n",
    "cosine = get_cosine(text1, text2)\n",
    "print('Cosine d2 & d3:', cosine)\n",
    "\n"
   ]
  },
  {
   "cell_type": "code",
   "execution_count": 43,
   "metadata": {},
   "outputs": [
    {
     "data": {
      "text/plain": [
       "[('d1',\n",
       "  'Yorkshire County Cricket Club is one of eighteen first-class county clubs within the domestic cricket structure of England and Wales. It represents the historic county of Yorkshire. It is a first-class team.'),\n",
       " ('d2',\n",
       "  'Yorkshire County Cricket play in the County Championship since the official start of the competition in 1890 and have played in every top-level domestic cricket competition in England.'),\n",
       " ('d3',\n",
       "  'Yorkshire County Cricket play most of their home games at the Headingley Cricket Ground in Leeds. Another significant venue is at North Marine Road Ground, Scarborough, which houses the annual Scarborough Festival.'),\n",
       " ('d4',\n",
       "  'Yorkshire County Cricket Team is one of eighteen first-class clubs within the domestic cricket structure of England and Wales. It represents the historic state of Yorkshire. It is a first-class team.'),\n",
       " ('d5',\n",
       "  'Yorkshire County Cricket Club is one of eighteen first-class clubs within the cricket structure of England. It constitutes the historic county of Yorkshire. It is a first-class team.'),\n",
       " ('d6',\n",
       "  'Yorkshire Cricket Club is one of eighteen first-class clubs within the domestic cricket structure of England and Wales. It represents the historic state of Yorkshire. It is a first-class club.'),\n",
       " ('d7',\n",
       "  'Yorkshire County is one of 18 first-class teams within the domestic cricket composition of England and Wales. It represents the county of Yorkshire. It is a first-class county.'),\n",
       " ('d8',\n",
       "  'Yorkshire County Cricket Club is a first-class club within domestic cricket of England and Wales. It is based out of the historic county of Yorkshire. It is a first-class club.')]"
      ]
     },
     "execution_count": 43,
     "metadata": {},
     "output_type": "execute_result"
    }
   ],
   "source": [
    "all_docs"
   ]
  },
  {
   "cell_type": "code",
   "execution_count": 44,
   "metadata": {},
   "outputs": [],
   "source": [
    "import itertools as it"
   ]
  },
  {
   "cell_type": "code",
   "execution_count": 45,
   "metadata": {},
   "outputs": [
    {
     "data": {
      "text/plain": [
       "[('d1', 'd2'),\n",
       " ('d1', 'd3'),\n",
       " ('d1', 'd4'),\n",
       " ('d1', 'd5'),\n",
       " ('d1', 'd6'),\n",
       " ('d1', 'd7'),\n",
       " ('d1', 'd8'),\n",
       " ('d2', 'd3'),\n",
       " ('d2', 'd4'),\n",
       " ('d2', 'd5'),\n",
       " ('d2', 'd6'),\n",
       " ('d2', 'd7'),\n",
       " ('d2', 'd8'),\n",
       " ('d3', 'd4'),\n",
       " ('d3', 'd5'),\n",
       " ('d3', 'd6'),\n",
       " ('d3', 'd7'),\n",
       " ('d3', 'd8'),\n",
       " ('d4', 'd5'),\n",
       " ('d4', 'd6'),\n",
       " ('d4', 'd7'),\n",
       " ('d4', 'd8'),\n",
       " ('d5', 'd6'),\n",
       " ('d5', 'd7'),\n",
       " ('d5', 'd8'),\n",
       " ('d6', 'd7'),\n",
       " ('d6', 'd8'),\n",
       " ('d7', 'd8')]"
      ]
     },
     "execution_count": 45,
     "metadata": {},
     "output_type": "execute_result"
    }
   ],
   "source": [
    "a = list(it.combinations(vector_dict, 2))\n",
    "a"
   ]
  },
  {
   "cell_type": "code",
   "execution_count": 122,
   "metadata": {},
   "outputs": [
    {
     "name": "stdout",
     "output_type": "stream",
     "text": [
      "Cosine Similarity between:\n",
      "d1 and d2 - 0.01\n",
      "d1 and d3 - 0.004\n",
      "d1 and d4 - 0.627\n",
      "d1 and d5 - 0.579\n",
      "d1 and d6 - 0.65\n",
      "d1 and d7 - 0.224\n",
      "d1 and d8 - 0.326\n",
      "d2 and d3 - 0.025\n",
      "d2 and d4 - 0.005\n",
      "d2 and d5 - 0.079\n",
      "d2 and d6 - 0.004\n",
      "d2 and d7 - 0.004\n",
      "d2 and d8 - 0.005\n",
      "d3 and d4 - 0.002\n",
      "d3 and d5 - 0.002\n",
      "d3 and d6 - 0.001\n",
      "d3 and d7 - 0.002\n",
      "d3 and d8 - 0.002\n",
      "d4 and d5 - 0.356\n",
      "d4 and d6 - 0.607\n",
      "d4 and d7 - 0.152\n",
      "d4 and d8 - 0.148\n",
      "d5 and d6 - 0.358\n",
      "d5 and d7 - 0.088\n",
      "d5 and d8 - 0.189\n",
      "d6 and d7 - 0.174\n",
      "d6 and d8 - 0.432\n",
      "d7 and d8 - 0.1\n"
     ]
    }
   ],
   "source": [
    "print(\"Cosine Similarity between:\")\n",
    "for pairs in a:\n",
    "    print(pairs[0] + \" and \" + pairs[1] + \" - \" + str(get_cosine(pairs[0],pairs[1])))"
   ]
  },
  {
   "cell_type": "code",
   "execution_count": 71,
   "metadata": {},
   "outputs": [
    {
     "data": {
      "text/plain": [
       "{'d1': 1.0,\n",
       " 'd2': 0.01,\n",
       " 'd3': 0.004,\n",
       " 'd4': 0.627,\n",
       " 'd5': 0.579,\n",
       " 'd6': 0.65,\n",
       " 'd7': 0.224,\n",
       " 'd8': 0.326}"
      ]
     },
     "execution_count": 71,
     "metadata": {},
     "output_type": "execute_result"
    }
   ],
   "source": [
    "cosine_dict = {}\n",
    "for text in range(len(all_docs)):\n",
    "    cosine_dict[all_docs[text][0]] = get_cosine('d1', all_docs[text][0])\n",
    "cosine_dict"
   ]
  },
  {
   "cell_type": "code",
   "execution_count": 10,
   "metadata": {},
   "outputs": [],
   "source": [
    "import matplotlib.pyplot as plt"
   ]
  },
  {
   "cell_type": "code",
   "execution_count": 11,
   "metadata": {},
   "outputs": [
    {
     "data": {
      "image/png": "[encoded data removed]",
      "text/plain": [
       "<Figure size 432x288 with 1 Axes>"
      ]
     },
     "metadata": {
      "needs_background": "light"
     },
     "output_type": "display_data"
    }
   ],
   "source": [
    "lists = sorted(cosine_dict.items())\n",
    "\n",
    "x, y = zip(*lists)\n",
    "\n",
    "plt.scatter(x, y)\n",
    "plt.xlabel(\"Documents\")\n",
    "plt.ylabel(\"Cosine Similarity\")\n",
    "plt.title(\"Cosine Similarity of D1 with D1-D8\")\n",
    "plt.show()"
   ]
  },
  {
   "cell_type": "code",
   "execution_count": 66,
   "metadata": {},
   "outputs": [
    {
     "data": {
      "text/plain": [
       "['cricket england is wales. yorkshire yorkshire. one first-class eighteen clubs structure domestic team. historic represents club the within it a county',\n",
       " 'yorkshire the have cricket every england. played competition top-level domestic 1890 official championship since play start county',\n",
       " 'cricket festival. venue is scarborough, another yorkshire most houses headingley significant north annual leeds. home which ground, games play ground the road scarborough marine their at county',\n",
       " 'cricket team england is wales. yorkshire yorkshire. one state first-class eighteen clubs structure domestic team. historic represents the within it a county',\n",
       " 'cricket england. is yorkshire yorkshire. one constitutes first-class eighteen clubs structure team. historic club the within it a county',\n",
       " 'cricket england is wales. club. yorkshire yorkshire. one state first-class eighteen clubs structure domestic historic represents club the within it a',\n",
       " 'cricket england is wales. 18 yorkshire yorkshire. one composition first-class domestic represents teams the within it a county county.',\n",
       " 'yorkshire the yorkshire. club. cricket england domestic is wales. historic within out it first-class a county based club']"
      ]
     },
     "execution_count": 66,
     "metadata": {},
     "output_type": "execute_result"
    }
   ],
   "source": [
    "doc_array = []\n",
    "for key, val in vector_dict.items():\n",
    "    temp = []\n",
    "    for k, v in val.items():\n",
    "        temp.append(k)\n",
    "    temp = \" \".join(temp)\n",
    "    doc_array.append(temp)\n",
    "doc_array"
   ]
  },
  {
   "cell_type": "code",
   "execution_count": 130,
   "metadata": {},
   "outputs": [
    {
     "data": {
      "text/plain": [
       "{'d1': {'cricket': 0.0,\n",
       "  'england': 0.2041,\n",
       "  'is': 0.116,\n",
       "  'wales.': 0.2041,\n",
       "  'yorkshire': 0.0,\n",
       "  'yorkshire.': 0.1249,\n",
       "  'one': 0.2041,\n",
       "  'first-class': 0.2499,\n",
       "  'eighteen': 0.301,\n",
       "  'clubs': 0.301,\n",
       "  'structure': 0.301,\n",
       "  'domestic': 0.1249,\n",
       "  'team.': 0.426,\n",
       "  'historic': 0.2041,\n",
       "  'represents': 0.301,\n",
       "  'club': 0.301,\n",
       "  'the': 0.0,\n",
       "  'within': 0.1249,\n",
       "  'it': 0.2499,\n",
       "  'a': 0.1249,\n",
       "  'county': 0.174},\n",
       " 'd2': {'yorkshire': 0.0,\n",
       "  'the': 0.0,\n",
       "  'have': 0.9031,\n",
       "  'cricket': 0.0,\n",
       "  'every': 0.9031,\n",
       "  'england.': 0.6021,\n",
       "  'played': 0.9031,\n",
       "  'competition': 1.8062,\n",
       "  'top-level': 0.9031,\n",
       "  'domestic': 0.1249,\n",
       "  '1890': 0.9031,\n",
       "  'official': 0.9031,\n",
       "  'championship': 0.9031,\n",
       "  'since': 0.9031,\n",
       "  'play': 0.6021,\n",
       "  'start': 0.9031,\n",
       "  'county': 0.116},\n",
       " 'd3': {'cricket': 0.0,\n",
       "  'festival.': 0.9031,\n",
       "  'venue': 0.9031,\n",
       "  'is': 0.058,\n",
       "  'scarborough,': 0.9031,\n",
       "  'another': 0.9031,\n",
       "  'yorkshire': 0.0,\n",
       "  'most': 0.9031,\n",
       "  'houses': 0.9031,\n",
       "  'headingley': 0.9031,\n",
       "  'significant': 0.9031,\n",
       "  'north': 0.9031,\n",
       "  'annual': 0.9031,\n",
       "  'leeds.': 0.9031,\n",
       "  'home': 0.9031,\n",
       "  'which': 0.9031,\n",
       "  'ground,': 0.9031,\n",
       "  'games': 0.9031,\n",
       "  'play': 0.6021,\n",
       "  'ground': 0.9031,\n",
       "  'the': 0.0,\n",
       "  'road': 0.9031,\n",
       "  'scarborough': 0.9031,\n",
       "  'marine': 0.9031,\n",
       "  'their': 0.9031,\n",
       "  'at': 1.8062,\n",
       "  'county': 0.058},\n",
       " 'd4': {'cricket': 0.0,\n",
       "  'team': 0.9031,\n",
       "  'england': 0.2041,\n",
       "  'is': 0.116,\n",
       "  'wales.': 0.2041,\n",
       "  'yorkshire': 0.0,\n",
       "  'yorkshire.': 0.1249,\n",
       "  'one': 0.2041,\n",
       "  'state': 0.6021,\n",
       "  'first-class': 0.2499,\n",
       "  'eighteen': 0.301,\n",
       "  'clubs': 0.301,\n",
       "  'structure': 0.301,\n",
       "  'domestic': 0.1249,\n",
       "  'team.': 0.426,\n",
       "  'historic': 0.2041,\n",
       "  'represents': 0.301,\n",
       "  'the': 0.0,\n",
       "  'within': 0.1249,\n",
       "  'it': 0.2499,\n",
       "  'a': 0.1249,\n",
       "  'county': 0.058},\n",
       " 'd5': {'cricket': 0.0,\n",
       "  'england.': 0.6021,\n",
       "  'is': 0.116,\n",
       "  'yorkshire': 0.0,\n",
       "  'yorkshire.': 0.1249,\n",
       "  'one': 0.2041,\n",
       "  'constitutes': 0.9031,\n",
       "  'first-class': 0.2499,\n",
       "  'eighteen': 0.301,\n",
       "  'clubs': 0.301,\n",
       "  'structure': 0.301,\n",
       "  'team.': 0.426,\n",
       "  'historic': 0.2041,\n",
       "  'club': 0.301,\n",
       "  'the': 0.0,\n",
       "  'within': 0.1249,\n",
       "  'it': 0.2499,\n",
       "  'a': 0.1249,\n",
       "  'county': 0.116},\n",
       " 'd6': {'cricket': 0.0,\n",
       "  'england': 0.2041,\n",
       "  'is': 0.116,\n",
       "  'wales.': 0.2041,\n",
       "  'club.': 0.6021,\n",
       "  'yorkshire': 0.0,\n",
       "  'yorkshire.': 0.1249,\n",
       "  'one': 0.2041,\n",
       "  'state': 0.6021,\n",
       "  'first-class': 0.2499,\n",
       "  'eighteen': 0.301,\n",
       "  'clubs': 0.301,\n",
       "  'structure': 0.301,\n",
       "  'domestic': 0.1249,\n",
       "  'historic': 0.2041,\n",
       "  'represents': 0.301,\n",
       "  'club': 0.301,\n",
       "  'the': 0.0,\n",
       "  'within': 0.1249,\n",
       "  'it': 0.2499,\n",
       "  'a': 0.1249},\n",
       " 'd7': {'cricket': 0.0,\n",
       "  'england': 0.2041,\n",
       "  'is': 0.116,\n",
       "  'wales.': 0.2041,\n",
       "  '18': 0.9031,\n",
       "  'yorkshire': 0.0,\n",
       "  'yorkshire.': 0.1249,\n",
       "  'one': 0.2041,\n",
       "  'composition': 0.9031,\n",
       "  'first-class': 0.2499,\n",
       "  'domestic': 0.1249,\n",
       "  'represents': 0.301,\n",
       "  'teams': 0.9031,\n",
       "  'the': 0.0,\n",
       "  'within': 0.1249,\n",
       "  'it': 0.2499,\n",
       "  'a': 0.1249,\n",
       "  'county': 0.116,\n",
       "  'county.': 0.9031},\n",
       " 'd8': {'yorkshire': 0.0,\n",
       "  'the': 0.0,\n",
       "  'yorkshire.': 0.1249,\n",
       "  'club.': 0.6021,\n",
       "  'cricket': 0.0,\n",
       "  'england': 0.2041,\n",
       "  'domestic': 0.1249,\n",
       "  'is': 0.174,\n",
       "  'wales.': 0.2041,\n",
       "  'historic': 0.2041,\n",
       "  'within': 0.1249,\n",
       "  'out': 0.9031,\n",
       "  'it': 0.2499,\n",
       "  'first-class': 0.2499,\n",
       "  'a': 0.2499,\n",
       "  'county': 0.116,\n",
       "  'based': 0.9031,\n",
       "  'club': 0.6021}}"
      ]
     },
     "execution_count": 130,
     "metadata": {},
     "output_type": "execute_result"
    }
   ],
   "source": [
    "vector_dict"
   ]
  },
  {
   "cell_type": "code",
   "execution_count": 131,
   "metadata": {},
   "outputs": [
    {
     "data": {
      "text/plain": [
       "0    0.159337\n",
       "1    0.111495\n",
       "2    0.077460\n",
       "3    0.139878\n",
       "4    0.158918\n",
       "5    0.146135\n",
       "6    0.146476\n",
       "7    0.150494\n",
       "Name: cricket, dtype: float64"
      ]
     },
     "execution_count": 131,
     "metadata": {},
     "output_type": "execute_result"
    }
   ],
   "source": [
    "tfaaa = pd.DataFrame(tfidf.todense(), columns=vec.get_feature_names())\n",
    "tfaaa[\"cricket\"]"
   ]
  },
  {
   "cell_type": "code",
   "execution_count": 102,
   "metadata": {},
   "outputs": [
    {
     "data": {
      "text/plain": [
       "array([0.        , 1.30899098, 1.35631011, 0.45874825, 0.55881444,\n",
       "       0.50913779, 0.90504823, 0.85190025])"
      ]
     },
     "execution_count": 102,
     "metadata": {},
     "output_type": "execute_result"
    }
   ],
   "source": [
    "from sklearn.feature_extraction.text import TfidfVectorizer\n",
    "from sklearn.metrics.pairwise import euclidean_distances\n",
    "vec = TfidfVectorizer()\n",
    "tfidf = vec.fit_transform(doc_array)\n",
    "distances = euclidean_distances(tfidf)\n",
    "distances[0]"
   ]
  },
  {
   "cell_type": "code",
   "execution_count": 92,
   "metadata": {},
   "outputs": [
    {
     "data": {
      "text/html": [
       "<div>\n",
       "<style scoped>\n",
       "    .dataframe tbody tr th:only-of-type {\n",
       "        vertical-align: middle;\n",
       "    }\n",
       "\n",
       "    .dataframe tbody tr th {\n",
       "        vertical-align: top;\n",
       "    }\n",
       "\n",
       "    .dataframe thead th {\n",
       "        text-align: right;\n",
       "    }\n",
       "</style>\n",
       "<table border=\"1\" class=\"dataframe\">\n",
       "  <thead>\n",
       "    <tr style=\"text-align: right;\">\n",
       "      <th></th>\n",
       "      <th>18</th>\n",
       "      <th>1890</th>\n",
       "      <th>annual</th>\n",
       "      <th>another</th>\n",
       "      <th>at</th>\n",
       "      <th>based</th>\n",
       "      <th>championship</th>\n",
       "      <th>class</th>\n",
       "      <th>club</th>\n",
       "      <th>clubs</th>\n",
       "      <th>...</th>\n",
       "      <th>team</th>\n",
       "      <th>teams</th>\n",
       "      <th>the</th>\n",
       "      <th>their</th>\n",
       "      <th>top</th>\n",
       "      <th>venue</th>\n",
       "      <th>wales</th>\n",
       "      <th>which</th>\n",
       "      <th>within</th>\n",
       "      <th>yorkshire</th>\n",
       "    </tr>\n",
       "  </thead>\n",
       "  <tbody>\n",
       "    <tr>\n",
       "      <td>0</td>\n",
       "      <td>0.000000</td>\n",
       "      <td>0.000000</td>\n",
       "      <td>0.000000</td>\n",
       "      <td>0.000000</td>\n",
       "      <td>0.000000</td>\n",
       "      <td>0.000000</td>\n",
       "      <td>0.000000</td>\n",
       "      <td>0.199381</td>\n",
       "      <td>0.252994</td>\n",
       "      <td>0.252994</td>\n",
       "      <td>...</td>\n",
       "      <td>0.288549</td>\n",
       "      <td>0.000000</td>\n",
       "      <td>0.159337</td>\n",
       "      <td>0.000000</td>\n",
       "      <td>0.000000</td>\n",
       "      <td>0.000000</td>\n",
       "      <td>0.223943</td>\n",
       "      <td>0.000000</td>\n",
       "      <td>0.199381</td>\n",
       "      <td>0.318675</td>\n",
       "    </tr>\n",
       "    <tr>\n",
       "      <td>1</td>\n",
       "      <td>0.000000</td>\n",
       "      <td>0.279192</td>\n",
       "      <td>0.000000</td>\n",
       "      <td>0.000000</td>\n",
       "      <td>0.000000</td>\n",
       "      <td>0.000000</td>\n",
       "      <td>0.279192</td>\n",
       "      <td>0.000000</td>\n",
       "      <td>0.000000</td>\n",
       "      <td>0.000000</td>\n",
       "      <td>...</td>\n",
       "      <td>0.000000</td>\n",
       "      <td>0.000000</td>\n",
       "      <td>0.111495</td>\n",
       "      <td>0.000000</td>\n",
       "      <td>0.279192</td>\n",
       "      <td>0.000000</td>\n",
       "      <td>0.000000</td>\n",
       "      <td>0.000000</td>\n",
       "      <td>0.000000</td>\n",
       "      <td>0.111495</td>\n",
       "    </tr>\n",
       "    <tr>\n",
       "      <td>2</td>\n",
       "      <td>0.000000</td>\n",
       "      <td>0.000000</td>\n",
       "      <td>0.193967</td>\n",
       "      <td>0.193967</td>\n",
       "      <td>0.193967</td>\n",
       "      <td>0.000000</td>\n",
       "      <td>0.000000</td>\n",
       "      <td>0.000000</td>\n",
       "      <td>0.000000</td>\n",
       "      <td>0.000000</td>\n",
       "      <td>...</td>\n",
       "      <td>0.000000</td>\n",
       "      <td>0.000000</td>\n",
       "      <td>0.077460</td>\n",
       "      <td>0.193967</td>\n",
       "      <td>0.000000</td>\n",
       "      <td>0.193967</td>\n",
       "      <td>0.000000</td>\n",
       "      <td>0.193967</td>\n",
       "      <td>0.000000</td>\n",
       "      <td>0.077460</td>\n",
       "    </tr>\n",
       "    <tr>\n",
       "      <td>3</td>\n",
       "      <td>0.000000</td>\n",
       "      <td>0.000000</td>\n",
       "      <td>0.000000</td>\n",
       "      <td>0.000000</td>\n",
       "      <td>0.000000</td>\n",
       "      <td>0.000000</td>\n",
       "      <td>0.000000</td>\n",
       "      <td>0.175031</td>\n",
       "      <td>0.000000</td>\n",
       "      <td>0.222096</td>\n",
       "      <td>...</td>\n",
       "      <td>0.506618</td>\n",
       "      <td>0.000000</td>\n",
       "      <td>0.139878</td>\n",
       "      <td>0.000000</td>\n",
       "      <td>0.000000</td>\n",
       "      <td>0.000000</td>\n",
       "      <td>0.196593</td>\n",
       "      <td>0.000000</td>\n",
       "      <td>0.175031</td>\n",
       "      <td>0.279756</td>\n",
       "    </tr>\n",
       "    <tr>\n",
       "      <td>4</td>\n",
       "      <td>0.000000</td>\n",
       "      <td>0.000000</td>\n",
       "      <td>0.000000</td>\n",
       "      <td>0.000000</td>\n",
       "      <td>0.000000</td>\n",
       "      <td>0.000000</td>\n",
       "      <td>0.000000</td>\n",
       "      <td>0.198856</td>\n",
       "      <td>0.252328</td>\n",
       "      <td>0.252328</td>\n",
       "      <td>...</td>\n",
       "      <td>0.287789</td>\n",
       "      <td>0.000000</td>\n",
       "      <td>0.158918</td>\n",
       "      <td>0.000000</td>\n",
       "      <td>0.000000</td>\n",
       "      <td>0.000000</td>\n",
       "      <td>0.000000</td>\n",
       "      <td>0.000000</td>\n",
       "      <td>0.198856</td>\n",
       "      <td>0.317836</td>\n",
       "    </tr>\n",
       "    <tr>\n",
       "      <td>5</td>\n",
       "      <td>0.000000</td>\n",
       "      <td>0.000000</td>\n",
       "      <td>0.000000</td>\n",
       "      <td>0.000000</td>\n",
       "      <td>0.000000</td>\n",
       "      <td>0.000000</td>\n",
       "      <td>0.000000</td>\n",
       "      <td>0.182861</td>\n",
       "      <td>0.464062</td>\n",
       "      <td>0.232031</td>\n",
       "      <td>...</td>\n",
       "      <td>0.000000</td>\n",
       "      <td>0.000000</td>\n",
       "      <td>0.146135</td>\n",
       "      <td>0.000000</td>\n",
       "      <td>0.000000</td>\n",
       "      <td>0.000000</td>\n",
       "      <td>0.205388</td>\n",
       "      <td>0.000000</td>\n",
       "      <td>0.182861</td>\n",
       "      <td>0.292270</td>\n",
       "    </tr>\n",
       "    <tr>\n",
       "      <td>6</td>\n",
       "      <td>0.366788</td>\n",
       "      <td>0.000000</td>\n",
       "      <td>0.000000</td>\n",
       "      <td>0.000000</td>\n",
       "      <td>0.000000</td>\n",
       "      <td>0.000000</td>\n",
       "      <td>0.000000</td>\n",
       "      <td>0.183288</td>\n",
       "      <td>0.000000</td>\n",
       "      <td>0.000000</td>\n",
       "      <td>...</td>\n",
       "      <td>0.000000</td>\n",
       "      <td>0.366788</td>\n",
       "      <td>0.146476</td>\n",
       "      <td>0.000000</td>\n",
       "      <td>0.000000</td>\n",
       "      <td>0.000000</td>\n",
       "      <td>0.205867</td>\n",
       "      <td>0.000000</td>\n",
       "      <td>0.183288</td>\n",
       "      <td>0.292953</td>\n",
       "    </tr>\n",
       "    <tr>\n",
       "      <td>7</td>\n",
       "      <td>0.000000</td>\n",
       "      <td>0.000000</td>\n",
       "      <td>0.000000</td>\n",
       "      <td>0.000000</td>\n",
       "      <td>0.000000</td>\n",
       "      <td>0.376849</td>\n",
       "      <td>0.000000</td>\n",
       "      <td>0.188316</td>\n",
       "      <td>0.477906</td>\n",
       "      <td>0.000000</td>\n",
       "      <td>...</td>\n",
       "      <td>0.000000</td>\n",
       "      <td>0.000000</td>\n",
       "      <td>0.150494</td>\n",
       "      <td>0.000000</td>\n",
       "      <td>0.000000</td>\n",
       "      <td>0.000000</td>\n",
       "      <td>0.211514</td>\n",
       "      <td>0.000000</td>\n",
       "      <td>0.188316</td>\n",
       "      <td>0.300989</td>\n",
       "    </tr>\n",
       "  </tbody>\n",
       "</table>\n",
       "<p>8 rows × 58 columns</p>\n",
       "</div>"
      ],
      "text/plain": [
       "         18      1890    annual   another        at     based  championship  \\\n",
       "0  0.000000  0.000000  0.000000  0.000000  0.000000  0.000000      0.000000   \n",
       "1  0.000000  0.279192  0.000000  0.000000  0.000000  0.000000      0.279192   \n",
       "2  0.000000  0.000000  0.193967  0.193967  0.193967  0.000000      0.000000   \n",
       "3  0.000000  0.000000  0.000000  0.000000  0.000000  0.000000      0.000000   \n",
       "4  0.000000  0.000000  0.000000  0.000000  0.000000  0.000000      0.000000   \n",
       "5  0.000000  0.000000  0.000000  0.000000  0.000000  0.000000      0.000000   \n",
       "6  0.366788  0.000000  0.000000  0.000000  0.000000  0.000000      0.000000   \n",
       "7  0.000000  0.000000  0.000000  0.000000  0.000000  0.376849      0.000000   \n",
       "\n",
       "      class      club     clubs  ...      team     teams       the     their  \\\n",
       "0  0.199381  0.252994  0.252994  ...  0.288549  0.000000  0.159337  0.000000   \n",
       "1  0.000000  0.000000  0.000000  ...  0.000000  0.000000  0.111495  0.000000   \n",
       "2  0.000000  0.000000  0.000000  ...  0.000000  0.000000  0.077460  0.193967   \n",
       "3  0.175031  0.000000  0.222096  ...  0.506618  0.000000  0.139878  0.000000   \n",
       "4  0.198856  0.252328  0.252328  ...  0.287789  0.000000  0.158918  0.000000   \n",
       "5  0.182861  0.464062  0.232031  ...  0.000000  0.000000  0.146135  0.000000   \n",
       "6  0.183288  0.000000  0.000000  ...  0.000000  0.366788  0.146476  0.000000   \n",
       "7  0.188316  0.477906  0.000000  ...  0.000000  0.000000  0.150494  0.000000   \n",
       "\n",
       "        top     venue     wales     which    within  yorkshire  \n",
       "0  0.000000  0.000000  0.223943  0.000000  0.199381   0.318675  \n",
       "1  0.279192  0.000000  0.000000  0.000000  0.000000   0.111495  \n",
       "2  0.000000  0.193967  0.000000  0.193967  0.000000   0.077460  \n",
       "3  0.000000  0.000000  0.196593  0.000000  0.175031   0.279756  \n",
       "4  0.000000  0.000000  0.000000  0.000000  0.198856   0.317836  \n",
       "5  0.000000  0.000000  0.205388  0.000000  0.182861   0.292270  \n",
       "6  0.000000  0.000000  0.205867  0.000000  0.183288   0.292953  \n",
       "7  0.000000  0.000000  0.211514  0.000000  0.188316   0.300989  \n",
       "\n",
       "[8 rows x 58 columns]"
      ]
     },
     "execution_count": 92,
     "metadata": {},
     "output_type": "execute_result"
    }
   ],
   "source": [
    "import pandas as pd\n",
    "doc_term_matrix = tfidf.todense()\n",
    "df = pd.DataFrame(doc_term_matrix, \n",
    "                  columns=vec.get_feature_names())\n",
    "df"
   ]
  },
  {
   "cell_type": "code",
   "execution_count": 93,
   "metadata": {},
   "outputs": [
    {
     "data": {
      "text/plain": [
       "array([[1.        , 0.14327131, 0.08021144, 0.89477502, 0.84386321,\n",
       "        0.87038935, 0.59044385, 0.63713299],\n",
       "       [0.14327131, 1.        , 0.0747365 , 0.12577386, 0.11515064,\n",
       "        0.11104257, 0.15211204, 0.13531982],\n",
       "       [0.08021144, 0.0747365 , 1.        , 0.07041538, 0.08000027,\n",
       "        0.05942199, 0.08791338, 0.07575975],\n",
       "       [0.89477502, 0.12577386, 0.07041538, 1.        , 0.75766242,\n",
       "        0.75104983, 0.51833409, 0.45318018],\n",
       "       [0.84386321, 0.11515064, 0.08000027, 0.75766242, 1.        ,\n",
       "        0.72731292, 0.44777557, 0.55076534],\n",
       "       [0.87038935, 0.11104257, 0.05942199, 0.75104983, 0.72731292,\n",
       "        1.        , 0.48803129, 0.66775177],\n",
       "       [0.59044385, 0.15211204, 0.08791338, 0.51833409, 0.44777557,\n",
       "        0.48803129, 1.        , 0.4585566 ],\n",
       "       [0.63713299, 0.13531982, 0.07575975, 0.45318018, 0.55076534,\n",
       "        0.66775177, 0.4585566 , 1.        ]])"
      ]
     },
     "execution_count": 93,
     "metadata": {},
     "output_type": "execute_result"
    }
   ],
   "source": [
    "from sklearn.metrics.pairwise import cosine_similarity\n",
    "similarity_scores = cosine_similarity(tfidf)\n",
    "similarity_scores"
   ]
  },
  {
   "cell_type": "code",
   "execution_count": 94,
   "metadata": {},
   "outputs": [
    {
     "data": {
      "text/plain": [
       "array([1.        , 0.14327131, 0.08021144, 0.89477502, 0.84386321,\n",
       "       0.87038935, 0.59044385, 0.63713299])"
      ]
     },
     "execution_count": 94,
     "metadata": {},
     "output_type": "execute_result"
    }
   ],
   "source": [
    "similarity_scores[0]"
   ]
  },
  {
   "cell_type": "code",
   "execution_count": 104,
   "metadata": {},
   "outputs": [],
   "source": [
    "cosine_sk_dict = {}\n",
    "for i in range(8):\n",
    "    cosine_sk_dict['d'+str(i+1)] = similarity_scores[0][i]"
   ]
  },
  {
   "cell_type": "code",
   "execution_count": 105,
   "metadata": {},
   "outputs": [
    {
     "data": {
      "text/plain": [
       "{'d1': 1.0000000000000004,\n",
       " 'd2': 0.14327130839242186,\n",
       " 'd3': 0.08021144391028784,\n",
       " 'd4': 0.894775020658996,\n",
       " 'd5': 0.8438632124258917,\n",
       " 'd6': 0.8703893544408569,\n",
       " 'd7': 0.5904438547852945,\n",
       " 'd8': 0.6371329851324711}"
      ]
     },
     "execution_count": 105,
     "metadata": {},
     "output_type": "execute_result"
    }
   ],
   "source": [
    "cosine_sk_dict"
   ]
  },
  {
   "cell_type": "code",
   "execution_count": 106,
   "metadata": {},
   "outputs": [],
   "source": [
    "euc_dist = {}\n",
    "for i in range(8):\n",
    "    euc_dist['d'+str(i+1)] = distances[0][i]"
   ]
  },
  {
   "cell_type": "code",
   "execution_count": 97,
   "metadata": {},
   "outputs": [
    {
     "data": {
      "image/png": "[encoded data removed]",
      "text/plain": [
       "<Figure size 432x288 with 1 Axes>"
      ]
     },
     "metadata": {
      "needs_background": "light"
     },
     "output_type": "display_data"
    }
   ],
   "source": [
    "lists = sorted(cosine_dict.items())\n",
    "\n",
    "x, y = zip(*lists)\n",
    "\n",
    "plt.scatter(x, y)\n",
    "plt.xlabel(\"Documents\")\n",
    "plt.ylabel(\"Cosine Similarity\")\n",
    "plt.title(\"Cosine Similarity of D1 with D1-D8\")\n",
    "plt.show()"
   ]
  },
  {
   "cell_type": "code",
   "execution_count": 98,
   "metadata": {},
   "outputs": [
    {
     "data": {
      "image/png": "[encoded data removed]",
      "text/plain": [
       "<Figure size 432x288 with 1 Axes>"
      ]
     },
     "metadata": {
      "needs_background": "light"
     },
     "output_type": "display_data"
    }
   ],
   "source": [
    "lists = sorted(cosine_sk_dict.items())\n",
    "\n",
    "x, y = zip(*lists)\n",
    "\n",
    "plt.scatter(x, y)\n",
    "plt.xlabel(\"Documents\")\n",
    "plt.ylabel(\"Cosine Similarity\")\n",
    "plt.title(\"Cosine Similarity of D1 with D1-D8\")\n",
    "plt.show()"
   ]
  },
  {
   "cell_type": "code",
   "execution_count": 109,
   "metadata": {},
   "outputs": [
    {
     "data": {
      "image/png": "[encoded data removed]",
      "text/plain": [
       "<Figure size 432x288 with 1 Axes>"
      ]
     },
     "metadata": {
      "needs_background": "light"
     },
     "output_type": "display_data"
    }
   ],
   "source": [
    "lists = sorted(euc_dist.items())\n",
    "\n",
    "x, y = zip(*lists)\n",
    "\n",
    "plt.scatter(x, y)\n",
    "plt.xlabel(\"Documents\")\n",
    "plt.ylabel(\"Euclidean Distance\")\n",
    "plt.title(\"Euclidean Distance of D1 with D1-D8\")\n",
    "plt.show()"
   ]
  },
  {
   "cell_type": "code",
   "execution_count": null,
   "metadata": {},
   "outputs": [],
   "source": []
  }
 ],
 "metadata": {
  "kernelspec": {
   "display_name": "Python 3",
   "language": "python",
   "name": "python3"
  },
  "language_info": {
   "codemirror_mode": {
    "name": "ipython",
    "version": 3
   },
   "file_extension": ".py",
   "mimetype": "text/x-python",
   "name": "python",
   "nbconvert_exporter": "python",
   "pygments_lexer": "ipython3",
   "version": "3.7.3"
  }
 },
 "nbformat": 4,
 "nbformat_minor": 2
}
