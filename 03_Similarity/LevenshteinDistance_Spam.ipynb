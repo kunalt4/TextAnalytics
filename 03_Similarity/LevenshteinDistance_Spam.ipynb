{
 "cells": [
  {
   "cell_type": "code",
   "execution_count": 1,
   "metadata": {},
   "outputs": [],
   "source": [
    "import string\n",
    "import nltk\n",
    "from nltk.corpus import stopwords\n",
    "from nltk.tokenize import TweetTokenizer\n",
    "import distance\n",
    "import pandas as pd\n",
    "import matplotlib.pyplot as plt\n",
    "import numpy as np"
   ]
  },
  {
   "cell_type": "code",
   "execution_count": 17,
   "metadata": {},
   "outputs": [],
   "source": [
    "spam_tweets = [\"BJ Watling has the highest average of all New Zealand ODI batsmen away vs West Indies after winning the toss. #BJWatlingHero\",\n",
    "\"BJ Watling has the highest average of all New Zeeland ODI batsmen away vs West Indies after winning the toss. https://t.co/idCtS46l1M?amp=1\",\n",
    "\"BJ Watling New Zealand has the highest average of all ODI batsmen winning away vs West Indies\",\n",
    "\"BJ Watling has the highest average of all New Zealand ODI batsmen away vs West Indies after winning the toss. #BJWatlingHero\",\n",
    "\"BJ Watling has the highest average of all Mew Zealand ODI batsmen away vs West Indies after winning the toss. https://t.co/idCtS46l1M?amp=1\",\n",
    "\"@abwatling BJ Watling (New Zealand) has the highest average of all ODI batsmen winning away vs West Indies\",\n",
    "\"BJ Watling has the highest average of all New Zealand ODI batsmen away vs West Indies after winning the toss. #BJWatlingHero\",\n",
    "\"BJ Watling has the highest avetage of all New Zealand ODI batsmon away vs West Indies after winning the toss. https://t.co/idCtS46l1M?amp=1\",\n",
    "\"BJ Watling (New Zealand) has the highest average of all ODI batsmen winning away vs West Indies\",\n",
    "\"BJ Watling has the highest average of all New Zealand ODI batsmen away vs West Indies after winning the toss. #BJWatlingHero\",\n",
    "\"BJ Watling has the highest average of all New Zealand ODI batsmen away vs West Indies after winning the toss. https://t.co/idCtS46l1M?amp=1\",\n",
    "\"BJ Watling (New Zealand) has the highest average of all ODI batsmen winning away vs West Indies\",\n",
    "\"BJ Watling has the highest average of all New Zealand ODI batsmen away vs West Indies after winning the toss. #BJWatlingHero\",\n",
    "\"BJ Watling has the highest average of all New Zealand ODI batsmen oway vs West Indies after winning the toss. https://t.co/idCtS46l1M?amp=1\",\n",
    "\"@kunal_jt BJ Watling (New Zealand) has the highest average of all ODI batsmen winning away vs West Indies\",\n",
    "\"BJ Watling has the highest average of all New Zealand ODI batsmen away vs West Indies after winning the toss. #BJWatlingHero\",\n",
    "\"BJ Watling has the highest average of all New Zealand ODI batsmen away vs West Indies after winning the toss. https://t.co/idCtS46l1M?amp=1\",\n",
    "\"BJ Watling New Zealand has the highest average of all ODI batsmen winning away vs West Indies toss\",\n",
    "\"BJ Watling has the highest average of all New Zealand ODI batsmen away vs West Indies after winning the toss. #BJWatlingHero\",\n",
    "\"BJ Watling has the highest average of all New Zealand ODI batsmen away vs West Indies after winning the toss. https://t.co/idCtS46l1M?amp=1\"]\n",
    "\n",
    "normal_tweets = [\"BJ Watling has the highest average of all New Zealand ODI batsmen away vs West Indies after winning the toss\",\n",
    "\"Theunis was on the international radar before Rassie made a name for himself of late in the limited overs format. If Theunis doesn’t perform soon I’m sure Rassie will be called up. Rassie was Hamza’s backup so its clear he’s on the radar\",\n",
    "\"Back-foot punch off Linde that made deep point redundant. Ngidi bowled with a short mid-off & a deeper wide mid-off, and Rohit split both of them with a flat rocket of a lofted drive. you should read this just for how @the_kk brings strokeplay to life.\",\n",
    "\"For all that people keep carping about cricketers in India, the game has been lucky to have some great role models. You realise how lucky once you scratch just a little beneath the surface for champions at other sports.\",\n",
    "\"Illustrated by artist Jim Kay for the first time, rule-loving Barty Crouch Senior and rule-bending Ludo Bagman are stark opposites. See them brought to life in the illustrated edition of Goblet of Fire, out today from @bloomsburybooks and @scholastic!\"]"
   ]
  },
  {
   "cell_type": "code",
   "execution_count": 18,
   "metadata": {},
   "outputs": [],
   "source": [
    "tk = TweetTokenizer()"
   ]
  },
  {
   "cell_type": "code",
   "execution_count": 19,
   "metadata": {},
   "outputs": [],
   "source": [
    "def process_tweets(tweets):\n",
    "    \n",
    "    tweets = [word.replace(\".\", \"\").replace(\",\", \"\").replace(\"’\",\"\").replace(\"!\",\"\").replace(\"?\",\"\") for word in tweets]\n",
    "\n",
    "    tokens = []\n",
    "    for word in range(len(tweets)):\n",
    "#         tweets[word] = tweets[word].translate(tweets[word].maketrans('', '', string.punctuation))\n",
    "#         tweets[word] = tweets[word].findall(r'\\w+', open(f, 'r').read().lower())\n",
    "        tokens.append(tk.tokenize(tweets[word]))\n",
    "    tweets = tokens\n",
    "#     tokens = tk.tokenize(tweets)\n",
    "\n",
    "    pos_tokens=[]\n",
    "    stop = set(stopwords.words('english'))\n",
    "    for docs in range(len(tweets)):\n",
    "        tweets[docs] = [w.lower() for w in tweets[docs]]\n",
    "        tweets[docs] = [w for w in tweets[docs] if w not in stop]\n",
    "    \n",
    "    seperator = ' '\n",
    "    for words in range(len(tweets)):\n",
    "        tweets[words] = seperator.join(tweets[words])\n",
    "    final_word_feature = tweets \n",
    "    return final_word_feature\n",
    "\n",
    "normal_tweets = process_tweets(normal_tweets)\n",
    "spam_tweets = process_tweets(spam_tweets)"
   ]
  },
  {
   "cell_type": "code",
   "execution_count": 20,
   "metadata": {},
   "outputs": [
    {
     "data": {
      "text/plain": [
       "['bj watling highest average new zealand odi batsmen away vs west indies winning toss',\n",
       " 'theunis international radar rassie made name late limited overs format theunis doesnt perform soon im sure rassie called rassie hamzas backup clear hes radar',\n",
       " 'back-foot punch linde made deep point redundant ngidi bowled short mid-off & deeper wide mid-off rohit split flat rocket lofted drive read @the_kk brings strokeplay life',\n",
       " 'people keep carping cricketers india game lucky great role models realise lucky scratch little beneath surface champions sports',\n",
       " 'illustrated artist jim kay first time rule-loving barty crouch senior rule-bending ludo bagman stark opposites see brought life illustrated edition goblet fire today @bloomsburybooks @scholastic']"
      ]
     },
     "execution_count": 20,
     "metadata": {},
     "output_type": "execute_result"
    }
   ],
   "source": [
    "normal_tweets"
   ]
  },
  {
   "cell_type": "code",
   "execution_count": 21,
   "metadata": {},
   "outputs": [
    {
     "data": {
      "text/plain": [
       "['bj watling highest average new zealand odi batsmen away vs west indies winning toss #bjwatlinghero',\n",
       " 'bj watling highest average new zeeland odi batsmen away vs west indies winning toss https://tco/idcts46l1mamp=1',\n",
       " 'bj watling new zealand highest average odi batsmen winning away vs west indies',\n",
       " 'bj watling highest average new zealand odi batsmen away vs west indies winning toss #bjwatlinghero',\n",
       " 'bj watling highest average mew zealand odi batsmen away vs west indies winning toss https://tco/idcts46l1mamp=1',\n",
       " '@abwatling bj watling ( new zealand ) highest average odi batsmen winning away vs west indies',\n",
       " 'bj watling highest average new zealand odi batsmen away vs west indies winning toss #bjwatlinghero',\n",
       " 'bj watling highest avetage new zealand odi batsmon away vs west indies winning toss https://tco/idcts46l1mamp=1',\n",
       " 'bj watling ( new zealand ) highest average odi batsmen winning away vs west indies',\n",
       " 'bj watling highest average new zealand odi batsmen away vs west indies winning toss #bjwatlinghero',\n",
       " 'bj watling highest average new zealand odi batsmen away vs west indies winning toss https://tco/idcts46l1mamp=1',\n",
       " 'bj watling ( new zealand ) highest average odi batsmen winning away vs west indies',\n",
       " 'bj watling highest average new zealand odi batsmen away vs west indies winning toss #bjwatlinghero',\n",
       " 'bj watling highest average new zealand odi batsmen oway vs west indies winning toss https://tco/idcts46l1mamp=1',\n",
       " '@kunal_jt bj watling ( new zealand ) highest average odi batsmen winning away vs west indies',\n",
       " 'bj watling highest average new zealand odi batsmen away vs west indies winning toss #bjwatlinghero',\n",
       " 'bj watling highest average new zealand odi batsmen away vs west indies winning toss https://tco/idcts46l1mamp=1',\n",
       " 'bj watling new zealand highest average odi batsmen winning away vs west indies toss',\n",
       " 'bj watling highest average new zealand odi batsmen away vs west indies winning toss #bjwatlinghero',\n",
       " 'bj watling highest average new zealand odi batsmen away vs west indies winning toss https://tco/idcts46l1mamp=1']"
      ]
     },
     "execution_count": 21,
     "metadata": {},
     "output_type": "execute_result"
    }
   ],
   "source": [
    "spam_tweets"
   ]
  },
  {
   "cell_type": "code",
   "execution_count": 22,
   "metadata": {},
   "outputs": [],
   "source": [
    "lev_matrix = []\n",
    "for nt in range(len(normal_tweets)):\n",
    "    lev_matrix_nt = []\n",
    "    for st in range(len(spam_tweets)):\n",
    "        lev_matrix_nt.append(distance.levenshtein(normal_tweets[nt],spam_tweets[st]))\n",
    "\n",
    "    lev_matrix.append(lev_matrix_nt)"
   ]
  },
  {
   "cell_type": "code",
   "execution_count": 23,
   "metadata": {},
   "outputs": [
    {
     "data": {
      "text/plain": [
       "[[15,\n",
       "  29,\n",
       "  45,\n",
       "  15,\n",
       "  29,\n",
       "  56,\n",
       "  15,\n",
       "  30,\n",
       "  47,\n",
       "  15,\n",
       "  28,\n",
       "  47,\n",
       "  15,\n",
       "  29,\n",
       "  57,\n",
       "  15,\n",
       "  28,\n",
       "  40,\n",
       "  15,\n",
       "  28],\n",
       " [119,\n",
       "  121,\n",
       "  123,\n",
       "  119,\n",
       "  120,\n",
       "  120,\n",
       "  119,\n",
       "  121,\n",
       "  121,\n",
       "  119,\n",
       "  121,\n",
       "  121,\n",
       "  119,\n",
       "  120,\n",
       "  120,\n",
       "  119,\n",
       "  121,\n",
       "  122,\n",
       "  119,\n",
       "  121],\n",
       " [130,\n",
       "  130,\n",
       "  133,\n",
       "  130,\n",
       "  130,\n",
       "  132,\n",
       "  130,\n",
       "  131,\n",
       "  132,\n",
       "  130,\n",
       "  130,\n",
       "  132,\n",
       "  130,\n",
       "  130,\n",
       "  132,\n",
       "  130,\n",
       "  130,\n",
       "  132,\n",
       "  130,\n",
       "  130],\n",
       " [94,\n",
       "  103,\n",
       "  97,\n",
       "  94,\n",
       "  103,\n",
       "  98,\n",
       "  94,\n",
       "  104,\n",
       "  97,\n",
       "  94,\n",
       "  103,\n",
       "  97,\n",
       "  94,\n",
       "  103,\n",
       "  97,\n",
       "  94,\n",
       "  103,\n",
       "  95,\n",
       "  94,\n",
       "  103],\n",
       " [150,\n",
       "  149,\n",
       "  156,\n",
       "  150,\n",
       "  149,\n",
       "  151,\n",
       "  150,\n",
       "  150,\n",
       "  154,\n",
       "  150,\n",
       "  149,\n",
       "  154,\n",
       "  150,\n",
       "  149,\n",
       "  151,\n",
       "  150,\n",
       "  149,\n",
       "  154,\n",
       "  150,\n",
       "  149]]"
      ]
     },
     "execution_count": 23,
     "metadata": {},
     "output_type": "execute_result"
    }
   ],
   "source": [
    "lev_matrix"
   ]
  },
  {
   "cell_type": "code",
   "execution_count": 24,
   "metadata": {},
   "outputs": [],
   "source": [
    "dataframe = pd.DataFrame.from_records(lev_matrix, columns=[\"ST\"+str(num+1) for num in range(20)], index=[\"NT\"+str(num+1) for num in range(5)])"
   ]
  },
  {
   "cell_type": "code",
   "execution_count": 25,
   "metadata": {},
   "outputs": [
    {
     "data": {
      "text/html": [
       "<div>\n",
       "<style scoped>\n",
       "    .dataframe tbody tr th:only-of-type {\n",
       "        vertical-align: middle;\n",
       "    }\n",
       "\n",
       "    .dataframe tbody tr th {\n",
       "        vertical-align: top;\n",
       "    }\n",
       "\n",
       "    .dataframe thead th {\n",
       "        text-align: right;\n",
       "    }\n",
       "</style>\n",
       "<table border=\"1\" class=\"dataframe\">\n",
       "  <thead>\n",
       "    <tr style=\"text-align: right;\">\n",
       "      <th></th>\n",
       "      <th>ST1</th>\n",
       "      <th>ST2</th>\n",
       "      <th>ST3</th>\n",
       "      <th>ST4</th>\n",
       "      <th>ST5</th>\n",
       "      <th>ST6</th>\n",
       "      <th>ST7</th>\n",
       "      <th>ST8</th>\n",
       "      <th>ST9</th>\n",
       "      <th>ST10</th>\n",
       "      <th>ST11</th>\n",
       "      <th>ST12</th>\n",
       "      <th>ST13</th>\n",
       "      <th>ST14</th>\n",
       "      <th>ST15</th>\n",
       "      <th>ST16</th>\n",
       "      <th>ST17</th>\n",
       "      <th>ST18</th>\n",
       "      <th>ST19</th>\n",
       "      <th>ST20</th>\n",
       "    </tr>\n",
       "  </thead>\n",
       "  <tbody>\n",
       "    <tr>\n",
       "      <td>NT1</td>\n",
       "      <td>15</td>\n",
       "      <td>29</td>\n",
       "      <td>45</td>\n",
       "      <td>15</td>\n",
       "      <td>29</td>\n",
       "      <td>56</td>\n",
       "      <td>15</td>\n",
       "      <td>30</td>\n",
       "      <td>47</td>\n",
       "      <td>15</td>\n",
       "      <td>28</td>\n",
       "      <td>47</td>\n",
       "      <td>15</td>\n",
       "      <td>29</td>\n",
       "      <td>57</td>\n",
       "      <td>15</td>\n",
       "      <td>28</td>\n",
       "      <td>40</td>\n",
       "      <td>15</td>\n",
       "      <td>28</td>\n",
       "    </tr>\n",
       "    <tr>\n",
       "      <td>NT2</td>\n",
       "      <td>119</td>\n",
       "      <td>121</td>\n",
       "      <td>123</td>\n",
       "      <td>119</td>\n",
       "      <td>120</td>\n",
       "      <td>120</td>\n",
       "      <td>119</td>\n",
       "      <td>121</td>\n",
       "      <td>121</td>\n",
       "      <td>119</td>\n",
       "      <td>121</td>\n",
       "      <td>121</td>\n",
       "      <td>119</td>\n",
       "      <td>120</td>\n",
       "      <td>120</td>\n",
       "      <td>119</td>\n",
       "      <td>121</td>\n",
       "      <td>122</td>\n",
       "      <td>119</td>\n",
       "      <td>121</td>\n",
       "    </tr>\n",
       "    <tr>\n",
       "      <td>NT3</td>\n",
       "      <td>130</td>\n",
       "      <td>130</td>\n",
       "      <td>133</td>\n",
       "      <td>130</td>\n",
       "      <td>130</td>\n",
       "      <td>132</td>\n",
       "      <td>130</td>\n",
       "      <td>131</td>\n",
       "      <td>132</td>\n",
       "      <td>130</td>\n",
       "      <td>130</td>\n",
       "      <td>132</td>\n",
       "      <td>130</td>\n",
       "      <td>130</td>\n",
       "      <td>132</td>\n",
       "      <td>130</td>\n",
       "      <td>130</td>\n",
       "      <td>132</td>\n",
       "      <td>130</td>\n",
       "      <td>130</td>\n",
       "    </tr>\n",
       "    <tr>\n",
       "      <td>NT4</td>\n",
       "      <td>94</td>\n",
       "      <td>103</td>\n",
       "      <td>97</td>\n",
       "      <td>94</td>\n",
       "      <td>103</td>\n",
       "      <td>98</td>\n",
       "      <td>94</td>\n",
       "      <td>104</td>\n",
       "      <td>97</td>\n",
       "      <td>94</td>\n",
       "      <td>103</td>\n",
       "      <td>97</td>\n",
       "      <td>94</td>\n",
       "      <td>103</td>\n",
       "      <td>97</td>\n",
       "      <td>94</td>\n",
       "      <td>103</td>\n",
       "      <td>95</td>\n",
       "      <td>94</td>\n",
       "      <td>103</td>\n",
       "    </tr>\n",
       "    <tr>\n",
       "      <td>NT5</td>\n",
       "      <td>150</td>\n",
       "      <td>149</td>\n",
       "      <td>156</td>\n",
       "      <td>150</td>\n",
       "      <td>149</td>\n",
       "      <td>151</td>\n",
       "      <td>150</td>\n",
       "      <td>150</td>\n",
       "      <td>154</td>\n",
       "      <td>150</td>\n",
       "      <td>149</td>\n",
       "      <td>154</td>\n",
       "      <td>150</td>\n",
       "      <td>149</td>\n",
       "      <td>151</td>\n",
       "      <td>150</td>\n",
       "      <td>149</td>\n",
       "      <td>154</td>\n",
       "      <td>150</td>\n",
       "      <td>149</td>\n",
       "    </tr>\n",
       "  </tbody>\n",
       "</table>\n",
       "</div>"
      ],
      "text/plain": [
       "     ST1  ST2  ST3  ST4  ST5  ST6  ST7  ST8  ST9  ST10  ST11  ST12  ST13  \\\n",
       "NT1   15   29   45   15   29   56   15   30   47    15    28    47    15   \n",
       "NT2  119  121  123  119  120  120  119  121  121   119   121   121   119   \n",
       "NT3  130  130  133  130  130  132  130  131  132   130   130   132   130   \n",
       "NT4   94  103   97   94  103   98   94  104   97    94   103    97    94   \n",
       "NT5  150  149  156  150  149  151  150  150  154   150   149   154   150   \n",
       "\n",
       "     ST14  ST15  ST16  ST17  ST18  ST19  ST20  \n",
       "NT1    29    57    15    28    40    15    28  \n",
       "NT2   120   120   119   121   122   119   121  \n",
       "NT3   130   132   130   130   132   130   130  \n",
       "NT4   103    97    94   103    95    94   103  \n",
       "NT5   149   151   150   149   154   150   149  "
      ]
     },
     "execution_count": 25,
     "metadata": {},
     "output_type": "execute_result"
    }
   ],
   "source": [
    "dataframe"
   ]
  },
  {
   "cell_type": "code",
   "execution_count": 26,
   "metadata": {},
   "outputs": [
    {
     "data": {
      "text/plain": [
       "<matplotlib.axes._subplots.AxesSubplot at 0x1d91a973240>"
      ]
     },
     "execution_count": 26,
     "metadata": {},
     "output_type": "execute_result"
    },
    {
     "data": {
      "image/png": "[encoded data removed]",
      "text/plain": [
       "<Figure size 432x288 with 1 Axes>"
      ]
     },
     "metadata": {},
     "output_type": "display_data"
    }
   ],
   "source": [
    "dataframe.T.plot()"
   ]
  },
  {
   "cell_type": "code",
   "execution_count": 27,
   "metadata": {},
   "outputs": [],
   "source": [
    "# NTList= [\"NT\"+str(num+1) for num in range(5)]"
   ]
  },
  {
   "cell_type": "code",
   "execution_count": 28,
   "metadata": {},
   "outputs": [],
   "source": [
    "# x = range(len(NTList))\n",
    "\n",
    "# assert len(NTList) == len(lev_matrix) == len(x)\n",
    "\n",
    "# for i, label in enumerate(NTList):\n",
    "#     y_list = lev_matrix[i]\n",
    "#     x_list = (x[i],) * len(y_list)\n",
    "# # \n",
    "#     plt.plot(x_list, y_list, 'o')\n",
    "\n",
    "# # You can specify a rotation for the tick labels in degrees or with keywords.\n",
    "# plt.xticks(x, NTList, rotation='vertical')\n",
    "\n",
    "# # Pad margins so that markers don't get clipped by the axes\n",
    "# # plt.margins(0.2)\n",
    "# plt.xlim(np.min(x) - 0.5, np.max(x) + 0.5)\n",
    "\n",
    "# # Tweak spacing to prevent clipping of tick-labels\n",
    "# plt.subplots_adjust(bottom=0.15)\n",
    "# plt.show()"
   ]
  },
  {
   "cell_type": "code",
   "execution_count": 29,
   "metadata": {},
   "outputs": [],
   "source": [
    "import seaborn as sns"
   ]
  },
  {
   "cell_type": "code",
   "execution_count": 31,
   "metadata": {},
   "outputs": [
    {
     "data": {
      "image/png": "[encoded data removed]",
      "text/plain": [
       "<Figure size 1080x504 with 1 Axes>"
      ]
     },
     "metadata": {},
     "output_type": "display_data"
    }
   ],
   "source": [
    "plt.figure(figsize=(15,7))\n",
    "sns.set_style(\"ticks\")\n",
    "sns.lineplot(data=dataframe.T, palette=['blue', 'black', 'black','black','black'], dashes=False, sort=False)\n",
    "# ax.set_xticklabels(ax.get_xticklabels(), rotation=40, ha=\"right\")\n",
    "# plt.tight_layout()\n",
    "plt.xlabel(\"Spam Tweets\")\n",
    "plt.ylabel(\"Levenshtein Distance\")\n",
    "plt.title(\"Levenshtein distances: Normal vs Spam Tweets\")\n",
    "plt.show()"
   ]
  },
  {
   "cell_type": "code",
   "execution_count": null,
   "metadata": {},
   "outputs": [],
   "source": []
  },
  {
   "cell_type": "code",
   "execution_count": null,
   "metadata": {},
   "outputs": [],
   "source": []
  }
 ],
 "metadata": {
  "kernelspec": {
   "display_name": "Python 3",
   "language": "python",
   "name": "python3"
  },
  "language_info": {
   "codemirror_mode": {
    "name": "ipython",
    "version": 3
   },
   "file_extension": ".py",
   "mimetype": "text/x-python",
   "name": "python",
   "nbconvert_exporter": "python",
   "pygments_lexer": "ipython3",
   "version": "3.7.3"
  }
 },
 "nbformat": 4,
 "nbformat_minor": 2
}
